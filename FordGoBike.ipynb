{
 "cells": [
  {
   "cell_type": "markdown",
   "id": "5e2b8171",
   "metadata": {},
   "source": [
    "# Part I - (Ford Go-Bike Trip Data)\n",
    "## by (Fidelis Leonard Chidubem)\n",
    "\n",
    "## Introduction\n",
    "> The GO-bike dataset includes information about individuals in a bike sharing system covering the greater San Francisco Bay area in 2019.  \n",
    "\n",
    "> It maintains a record of users start and end locations and coordinates, as well as their trip duration, user registeration type, gender, etc. This analysis largely aims to determine how much effect the collected data has on user behaviors.   \n",
    ".\n",
    ".\n",
    ".\n",
    "\n",
    "# Preliminary Wrangling\n"
   ]
  },
  {
   "cell_type": "code",
   "execution_count": 3,
   "id": "77b2e473",
   "metadata": {},
   "outputs": [],
   "source": [
    "# import all packages and set plots to be embedded inline\n",
    "import numpy as np\n",
    "import pandas as pd\n",
    "import matplotlib.pyplot as plt\n",
    "import seaborn as sb\n",
    "\n",
    "\n",
    "%matplotlib inline"
   ]
  },
  {
   "cell_type": "code",
   "execution_count": 5,
   "id": "0f468af0",
   "metadata": {},
   "outputs": [],
   "source": [
    "# Load dataset using pandas\n",
    "\n",
    "gobike = pd.read_csv('201902-fordgobike-tripdata.csv')"
   ]
  },
  {
   "cell_type": "code",
   "execution_count": 6,
   "id": "ed0db061",
   "metadata": {},
   "outputs": [
    {
     "data": {
      "text/html": [
       "<div>\n",
       "<style scoped>\n",
       "    .dataframe tbody tr th:only-of-type {\n",
       "        vertical-align: middle;\n",
       "    }\n",
       "\n",
       "    .dataframe tbody tr th {\n",
       "        vertical-align: top;\n",
       "    }\n",
       "\n",
       "    .dataframe thead th {\n",
       "        text-align: right;\n",
       "    }\n",
       "</style>\n",
       "<table border=\"1\" class=\"dataframe\">\n",
       "  <thead>\n",
       "    <tr style=\"text-align: right;\">\n",
       "      <th></th>\n",
       "      <th>duration_sec</th>\n",
       "      <th>start_time</th>\n",
       "      <th>end_time</th>\n",
       "      <th>start_station_id</th>\n",
       "      <th>start_station_name</th>\n",
       "      <th>start_station_latitude</th>\n",
       "      <th>start_station_longitude</th>\n",
       "      <th>end_station_id</th>\n",
       "      <th>end_station_name</th>\n",
       "      <th>end_station_latitude</th>\n",
       "      <th>end_station_longitude</th>\n",
       "      <th>bike_id</th>\n",
       "      <th>user_type</th>\n",
       "      <th>member_birth_year</th>\n",
       "      <th>member_gender</th>\n",
       "      <th>bike_share_for_all_trip</th>\n",
       "    </tr>\n",
       "  </thead>\n",
       "  <tbody>\n",
       "    <tr>\n",
       "      <th>0</th>\n",
       "      <td>52185</td>\n",
       "      <td>2019-02-28 17:32:10.1450</td>\n",
       "      <td>2019-03-01 08:01:55.9750</td>\n",
       "      <td>21.0</td>\n",
       "      <td>Montgomery St BART Station (Market St at 2nd St)</td>\n",
       "      <td>37.789625</td>\n",
       "      <td>-122.400811</td>\n",
       "      <td>13.0</td>\n",
       "      <td>Commercial St at Montgomery St</td>\n",
       "      <td>37.794231</td>\n",
       "      <td>-122.402923</td>\n",
       "      <td>4902</td>\n",
       "      <td>Customer</td>\n",
       "      <td>1984.0</td>\n",
       "      <td>Male</td>\n",
       "      <td>No</td>\n",
       "    </tr>\n",
       "    <tr>\n",
       "      <th>1</th>\n",
       "      <td>42521</td>\n",
       "      <td>2019-02-28 18:53:21.7890</td>\n",
       "      <td>2019-03-01 06:42:03.0560</td>\n",
       "      <td>23.0</td>\n",
       "      <td>The Embarcadero at Steuart St</td>\n",
       "      <td>37.791464</td>\n",
       "      <td>-122.391034</td>\n",
       "      <td>81.0</td>\n",
       "      <td>Berry St at 4th St</td>\n",
       "      <td>37.775880</td>\n",
       "      <td>-122.393170</td>\n",
       "      <td>2535</td>\n",
       "      <td>Customer</td>\n",
       "      <td>NaN</td>\n",
       "      <td>NaN</td>\n",
       "      <td>No</td>\n",
       "    </tr>\n",
       "    <tr>\n",
       "      <th>2</th>\n",
       "      <td>61854</td>\n",
       "      <td>2019-02-28 12:13:13.2180</td>\n",
       "      <td>2019-03-01 05:24:08.1460</td>\n",
       "      <td>86.0</td>\n",
       "      <td>Market St at Dolores St</td>\n",
       "      <td>37.769305</td>\n",
       "      <td>-122.426826</td>\n",
       "      <td>3.0</td>\n",
       "      <td>Powell St BART Station (Market St at 4th St)</td>\n",
       "      <td>37.786375</td>\n",
       "      <td>-122.404904</td>\n",
       "      <td>5905</td>\n",
       "      <td>Customer</td>\n",
       "      <td>1972.0</td>\n",
       "      <td>Male</td>\n",
       "      <td>No</td>\n",
       "    </tr>\n",
       "    <tr>\n",
       "      <th>3</th>\n",
       "      <td>36490</td>\n",
       "      <td>2019-02-28 17:54:26.0100</td>\n",
       "      <td>2019-03-01 04:02:36.8420</td>\n",
       "      <td>375.0</td>\n",
       "      <td>Grove St at Masonic Ave</td>\n",
       "      <td>37.774836</td>\n",
       "      <td>-122.446546</td>\n",
       "      <td>70.0</td>\n",
       "      <td>Central Ave at Fell St</td>\n",
       "      <td>37.773311</td>\n",
       "      <td>-122.444293</td>\n",
       "      <td>6638</td>\n",
       "      <td>Subscriber</td>\n",
       "      <td>1989.0</td>\n",
       "      <td>Other</td>\n",
       "      <td>No</td>\n",
       "    </tr>\n",
       "    <tr>\n",
       "      <th>4</th>\n",
       "      <td>1585</td>\n",
       "      <td>2019-02-28 23:54:18.5490</td>\n",
       "      <td>2019-03-01 00:20:44.0740</td>\n",
       "      <td>7.0</td>\n",
       "      <td>Frank H Ogawa Plaza</td>\n",
       "      <td>37.804562</td>\n",
       "      <td>-122.271738</td>\n",
       "      <td>222.0</td>\n",
       "      <td>10th Ave at E 15th St</td>\n",
       "      <td>37.792714</td>\n",
       "      <td>-122.248780</td>\n",
       "      <td>4898</td>\n",
       "      <td>Subscriber</td>\n",
       "      <td>1974.0</td>\n",
       "      <td>Male</td>\n",
       "      <td>Yes</td>\n",
       "    </tr>\n",
       "  </tbody>\n",
       "</table>\n",
       "</div>"
      ],
      "text/plain": [
       "   duration_sec                start_time                  end_time  \\\n",
       "0         52185  2019-02-28 17:32:10.1450  2019-03-01 08:01:55.9750   \n",
       "1         42521  2019-02-28 18:53:21.7890  2019-03-01 06:42:03.0560   \n",
       "2         61854  2019-02-28 12:13:13.2180  2019-03-01 05:24:08.1460   \n",
       "3         36490  2019-02-28 17:54:26.0100  2019-03-01 04:02:36.8420   \n",
       "4          1585  2019-02-28 23:54:18.5490  2019-03-01 00:20:44.0740   \n",
       "\n",
       "   start_station_id                                start_station_name  \\\n",
       "0              21.0  Montgomery St BART Station (Market St at 2nd St)   \n",
       "1              23.0                     The Embarcadero at Steuart St   \n",
       "2              86.0                           Market St at Dolores St   \n",
       "3             375.0                           Grove St at Masonic Ave   \n",
       "4               7.0                               Frank H Ogawa Plaza   \n",
       "\n",
       "   start_station_latitude  start_station_longitude  end_station_id  \\\n",
       "0               37.789625              -122.400811            13.0   \n",
       "1               37.791464              -122.391034            81.0   \n",
       "2               37.769305              -122.426826             3.0   \n",
       "3               37.774836              -122.446546            70.0   \n",
       "4               37.804562              -122.271738           222.0   \n",
       "\n",
       "                               end_station_name  end_station_latitude  \\\n",
       "0                Commercial St at Montgomery St             37.794231   \n",
       "1                            Berry St at 4th St             37.775880   \n",
       "2  Powell St BART Station (Market St at 4th St)             37.786375   \n",
       "3                        Central Ave at Fell St             37.773311   \n",
       "4                         10th Ave at E 15th St             37.792714   \n",
       "\n",
       "   end_station_longitude  bike_id   user_type  member_birth_year  \\\n",
       "0            -122.402923     4902    Customer             1984.0   \n",
       "1            -122.393170     2535    Customer                NaN   \n",
       "2            -122.404904     5905    Customer             1972.0   \n",
       "3            -122.444293     6638  Subscriber             1989.0   \n",
       "4            -122.248780     4898  Subscriber             1974.0   \n",
       "\n",
       "  member_gender bike_share_for_all_trip  \n",
       "0          Male                      No  \n",
       "1           NaN                      No  \n",
       "2          Male                      No  \n",
       "3         Other                      No  \n",
       "4          Male                     Yes  "
      ]
     },
     "execution_count": 6,
     "metadata": {},
     "output_type": "execute_result"
    }
   ],
   "source": [
    "# The dataset\n",
    "\n",
    "gobike.head()"
   ]
  },
  {
   "cell_type": "markdown",
   "id": "094a0705",
   "metadata": {},
   "source": [
    "# Assessing Process\n",
    "\n",
    "> Here, I'll perform some programatic and visual assessment to the dataset. the results of this assessment will be recorded thereafter. m"
   ]
  },
  {
   "cell_type": "code",
   "execution_count": 13,
   "id": "8113bdb3",
   "metadata": {},
   "outputs": [
    {
     "data": {
      "text/plain": [
       "(183412, 16)"
      ]
     },
     "execution_count": 13,
     "metadata": {},
     "output_type": "execute_result"
    }
   ],
   "source": [
    "# To get an ideo of the records\n",
    "\n",
    "gobike.shape"
   ]
  },
  {
   "cell_type": "code",
   "execution_count": 14,
   "id": "0e4c055c",
   "metadata": {},
   "outputs": [
    {
     "data": {
      "text/plain": [
       "duration_sec                 int64\n",
       "start_time                  object\n",
       "end_time                    object\n",
       "start_station_id           float64\n",
       "start_station_name          object\n",
       "start_station_latitude     float64\n",
       "start_station_longitude    float64\n",
       "end_station_id             float64\n",
       "end_station_name            object\n",
       "end_station_latitude       float64\n",
       "end_station_longitude      float64\n",
       "bike_id                      int64\n",
       "user_type                   object\n",
       "member_birth_year          float64\n",
       "member_gender               object\n",
       "bike_share_for_all_trip     object\n",
       "dtype: object"
      ]
     },
     "execution_count": 14,
     "metadata": {},
     "output_type": "execute_result"
    }
   ],
   "source": [
    "# Let's see the data types\n",
    "\n",
    "gobike.dtypes"
   ]
  },
  {
   "cell_type": "code",
   "execution_count": 15,
   "id": "3fb70fff",
   "metadata": {},
   "outputs": [
    {
     "name": "stdout",
     "output_type": "stream",
     "text": [
      "<class 'pandas.core.frame.DataFrame'>\n",
      "RangeIndex: 183412 entries, 0 to 183411\n",
      "Data columns (total 16 columns):\n",
      " #   Column                   Non-Null Count   Dtype  \n",
      "---  ------                   --------------   -----  \n",
      " 0   duration_sec             183412 non-null  int64  \n",
      " 1   start_time               183412 non-null  object \n",
      " 2   end_time                 183412 non-null  object \n",
      " 3   start_station_id         183215 non-null  float64\n",
      " 4   start_station_name       183215 non-null  object \n",
      " 5   start_station_latitude   183412 non-null  float64\n",
      " 6   start_station_longitude  183412 non-null  float64\n",
      " 7   end_station_id           183215 non-null  float64\n",
      " 8   end_station_name         183215 non-null  object \n",
      " 9   end_station_latitude     183412 non-null  float64\n",
      " 10  end_station_longitude    183412 non-null  float64\n",
      " 11  bike_id                  183412 non-null  int64  \n",
      " 12  user_type                183412 non-null  object \n",
      " 13  member_birth_year        175147 non-null  float64\n",
      " 14  member_gender            175147 non-null  object \n",
      " 15  bike_share_for_all_trip  183412 non-null  object \n",
      "dtypes: float64(7), int64(2), object(7)\n",
      "memory usage: 22.4+ MB\n"
     ]
    }
   ],
   "source": [
    "# It's metadata\n",
    "\n",
    "gobike.info()"
   ]
  },
  {
   "cell_type": "code",
   "execution_count": 16,
   "id": "16e215ed",
   "metadata": {},
   "outputs": [
    {
     "data": {
      "text/plain": [
       "duration_sec                  0\n",
       "start_time                    0\n",
       "end_time                      0\n",
       "start_station_id            197\n",
       "start_station_name          197\n",
       "start_station_latitude        0\n",
       "start_station_longitude       0\n",
       "end_station_id              197\n",
       "end_station_name            197\n",
       "end_station_latitude          0\n",
       "end_station_longitude         0\n",
       "bike_id                       0\n",
       "user_type                     0\n",
       "member_birth_year          8265\n",
       "member_gender              8265\n",
       "bike_share_for_all_trip       0\n",
       "dtype: int64"
      ]
     },
     "execution_count": 16,
     "metadata": {},
     "output_type": "execute_result"
    }
   ],
   "source": [
    "# How much null values?\n",
    "\n",
    "gobike.isnull().sum()"
   ]
  },
  {
   "cell_type": "markdown",
   "id": "9e767c53",
   "metadata": {},
   "source": [
    "Do some stations with missing station IDs have recorded station names?"
   ]
  },
  {
   "cell_type": "code",
   "execution_count": 17,
   "id": "2d33af65",
   "metadata": {},
   "outputs": [
    {
     "data": {
      "text/html": [
       "<div>\n",
       "<style scoped>\n",
       "    .dataframe tbody tr th:only-of-type {\n",
       "        vertical-align: middle;\n",
       "    }\n",
       "\n",
       "    .dataframe tbody tr th {\n",
       "        vertical-align: top;\n",
       "    }\n",
       "\n",
       "    .dataframe thead th {\n",
       "        text-align: right;\n",
       "    }\n",
       "</style>\n",
       "<table border=\"1\" class=\"dataframe\">\n",
       "  <thead>\n",
       "    <tr style=\"text-align: right;\">\n",
       "      <th></th>\n",
       "      <th>duration_sec</th>\n",
       "      <th>start_time</th>\n",
       "      <th>end_time</th>\n",
       "      <th>start_station_id</th>\n",
       "      <th>start_station_name</th>\n",
       "      <th>start_station_latitude</th>\n",
       "      <th>start_station_longitude</th>\n",
       "      <th>end_station_id</th>\n",
       "      <th>end_station_name</th>\n",
       "      <th>end_station_latitude</th>\n",
       "      <th>end_station_longitude</th>\n",
       "      <th>bike_id</th>\n",
       "      <th>user_type</th>\n",
       "      <th>member_birth_year</th>\n",
       "      <th>member_gender</th>\n",
       "      <th>bike_share_for_all_trip</th>\n",
       "    </tr>\n",
       "  </thead>\n",
       "  <tbody>\n",
       "  </tbody>\n",
       "</table>\n",
       "</div>"
      ],
      "text/plain": [
       "Empty DataFrame\n",
       "Columns: [duration_sec, start_time, end_time, start_station_id, start_station_name, start_station_latitude, start_station_longitude, end_station_id, end_station_name, end_station_latitude, end_station_longitude, bike_id, user_type, member_birth_year, member_gender, bike_share_for_all_trip]\n",
       "Index: []"
      ]
     },
     "execution_count": 17,
     "metadata": {},
     "output_type": "execute_result"
    }
   ],
   "source": [
    "# I'll filter the list, first with the start stations\n",
    "\n",
    "gobike[(gobike.start_station_id.isna() & gobike.start_station_name.notna())]"
   ]
  },
  {
   "cell_type": "code",
   "execution_count": 18,
   "id": "cb0f5d73",
   "metadata": {},
   "outputs": [
    {
     "data": {
      "text/html": [
       "<div>\n",
       "<style scoped>\n",
       "    .dataframe tbody tr th:only-of-type {\n",
       "        vertical-align: middle;\n",
       "    }\n",
       "\n",
       "    .dataframe tbody tr th {\n",
       "        vertical-align: top;\n",
       "    }\n",
       "\n",
       "    .dataframe thead th {\n",
       "        text-align: right;\n",
       "    }\n",
       "</style>\n",
       "<table border=\"1\" class=\"dataframe\">\n",
       "  <thead>\n",
       "    <tr style=\"text-align: right;\">\n",
       "      <th></th>\n",
       "      <th>duration_sec</th>\n",
       "      <th>start_time</th>\n",
       "      <th>end_time</th>\n",
       "      <th>start_station_id</th>\n",
       "      <th>start_station_name</th>\n",
       "      <th>start_station_latitude</th>\n",
       "      <th>start_station_longitude</th>\n",
       "      <th>end_station_id</th>\n",
       "      <th>end_station_name</th>\n",
       "      <th>end_station_latitude</th>\n",
       "      <th>end_station_longitude</th>\n",
       "      <th>bike_id</th>\n",
       "      <th>user_type</th>\n",
       "      <th>member_birth_year</th>\n",
       "      <th>member_gender</th>\n",
       "      <th>bike_share_for_all_trip</th>\n",
       "    </tr>\n",
       "  </thead>\n",
       "  <tbody>\n",
       "  </tbody>\n",
       "</table>\n",
       "</div>"
      ],
      "text/plain": [
       "Empty DataFrame\n",
       "Columns: [duration_sec, start_time, end_time, start_station_id, start_station_name, start_station_latitude, start_station_longitude, end_station_id, end_station_name, end_station_latitude, end_station_longitude, bike_id, user_type, member_birth_year, member_gender, bike_share_for_all_trip]\n",
       "Index: []"
      ]
     },
     "execution_count": 18,
     "metadata": {},
     "output_type": "execute_result"
    }
   ],
   "source": [
    "# How about end stations? \n",
    "\n",
    "gobike[(gobike.end_station_id.isna() & gobike.end_station_name.notna())]"
   ]
  },
  {
   "cell_type": "markdown",
   "id": "54855d3f",
   "metadata": {},
   "source": [
    "None.\n",
    ".\n",
    "\n",
    "Do the null records in the start stations match the end stations?"
   ]
  },
  {
   "cell_type": "code",
   "execution_count": 19,
   "id": "bb8d45bb",
   "metadata": {},
   "outputs": [
    {
     "data": {
      "text/html": [
       "<div>\n",
       "<style scoped>\n",
       "    .dataframe tbody tr th:only-of-type {\n",
       "        vertical-align: middle;\n",
       "    }\n",
       "\n",
       "    .dataframe tbody tr th {\n",
       "        vertical-align: top;\n",
       "    }\n",
       "\n",
       "    .dataframe thead th {\n",
       "        text-align: right;\n",
       "    }\n",
       "</style>\n",
       "<table border=\"1\" class=\"dataframe\">\n",
       "  <thead>\n",
       "    <tr style=\"text-align: right;\">\n",
       "      <th></th>\n",
       "      <th>duration_sec</th>\n",
       "      <th>start_time</th>\n",
       "      <th>end_time</th>\n",
       "      <th>start_station_id</th>\n",
       "      <th>start_station_name</th>\n",
       "      <th>start_station_latitude</th>\n",
       "      <th>start_station_longitude</th>\n",
       "      <th>end_station_id</th>\n",
       "      <th>end_station_name</th>\n",
       "      <th>end_station_latitude</th>\n",
       "      <th>end_station_longitude</th>\n",
       "      <th>bike_id</th>\n",
       "      <th>user_type</th>\n",
       "      <th>member_birth_year</th>\n",
       "      <th>member_gender</th>\n",
       "      <th>bike_share_for_all_trip</th>\n",
       "    </tr>\n",
       "  </thead>\n",
       "  <tbody>\n",
       "  </tbody>\n",
       "</table>\n",
       "</div>"
      ],
      "text/plain": [
       "Empty DataFrame\n",
       "Columns: [duration_sec, start_time, end_time, start_station_id, start_station_name, start_station_latitude, start_station_longitude, end_station_id, end_station_name, end_station_latitude, end_station_longitude, bike_id, user_type, member_birth_year, member_gender, bike_share_for_all_trip]\n",
       "Index: []"
      ]
     },
     "execution_count": 19,
     "metadata": {},
     "output_type": "execute_result"
    }
   ],
   "source": [
    "gobike[(gobike.end_station_id.isna() & gobike.start_station_id.notna())]"
   ]
  },
  {
   "cell_type": "markdown",
   "id": "b193d691",
   "metadata": {},
   "source": [
    "Yes, they do. Drop.\n",
    "\n",
    ".\n",
    "\n",
    "Like the station records, do the null data in the member gender columns match those in the member birth year?"
   ]
  },
  {
   "cell_type": "code",
   "execution_count": 20,
   "id": "d26ce13d",
   "metadata": {},
   "outputs": [
    {
     "data": {
      "text/html": [
       "<div>\n",
       "<style scoped>\n",
       "    .dataframe tbody tr th:only-of-type {\n",
       "        vertical-align: middle;\n",
       "    }\n",
       "\n",
       "    .dataframe tbody tr th {\n",
       "        vertical-align: top;\n",
       "    }\n",
       "\n",
       "    .dataframe thead th {\n",
       "        text-align: right;\n",
       "    }\n",
       "</style>\n",
       "<table border=\"1\" class=\"dataframe\">\n",
       "  <thead>\n",
       "    <tr style=\"text-align: right;\">\n",
       "      <th></th>\n",
       "      <th>duration_sec</th>\n",
       "      <th>start_time</th>\n",
       "      <th>end_time</th>\n",
       "      <th>start_station_id</th>\n",
       "      <th>start_station_name</th>\n",
       "      <th>start_station_latitude</th>\n",
       "      <th>start_station_longitude</th>\n",
       "      <th>end_station_id</th>\n",
       "      <th>end_station_name</th>\n",
       "      <th>end_station_latitude</th>\n",
       "      <th>end_station_longitude</th>\n",
       "      <th>bike_id</th>\n",
       "      <th>user_type</th>\n",
       "      <th>member_birth_year</th>\n",
       "      <th>member_gender</th>\n",
       "      <th>bike_share_for_all_trip</th>\n",
       "    </tr>\n",
       "  </thead>\n",
       "  <tbody>\n",
       "  </tbody>\n",
       "</table>\n",
       "</div>"
      ],
      "text/plain": [
       "Empty DataFrame\n",
       "Columns: [duration_sec, start_time, end_time, start_station_id, start_station_name, start_station_latitude, start_station_longitude, end_station_id, end_station_name, end_station_latitude, end_station_longitude, bike_id, user_type, member_birth_year, member_gender, bike_share_for_all_trip]\n",
       "Index: []"
      ]
     },
     "execution_count": 20,
     "metadata": {},
     "output_type": "execute_result"
    }
   ],
   "source": [
    "gobike[gobike.member_gender.isna() & gobike.member_birth_year.notna()]"
   ]
  },
  {
   "cell_type": "markdown",
   "id": "f3ef7633",
   "metadata": {},
   "source": [
    "Fine. Drop. "
   ]
  },
  {
   "cell_type": "code",
   "execution_count": 21,
   "id": "c30b5f68",
   "metadata": {},
   "outputs": [
    {
     "data": {
      "text/html": [
       "<div>\n",
       "<style scoped>\n",
       "    .dataframe tbody tr th:only-of-type {\n",
       "        vertical-align: middle;\n",
       "    }\n",
       "\n",
       "    .dataframe tbody tr th {\n",
       "        vertical-align: top;\n",
       "    }\n",
       "\n",
       "    .dataframe thead th {\n",
       "        text-align: right;\n",
       "    }\n",
       "</style>\n",
       "<table border=\"1\" class=\"dataframe\">\n",
       "  <thead>\n",
       "    <tr style=\"text-align: right;\">\n",
       "      <th></th>\n",
       "      <th>duration_sec</th>\n",
       "      <th>start_station_id</th>\n",
       "      <th>start_station_latitude</th>\n",
       "      <th>start_station_longitude</th>\n",
       "      <th>end_station_id</th>\n",
       "      <th>end_station_latitude</th>\n",
       "      <th>end_station_longitude</th>\n",
       "      <th>bike_id</th>\n",
       "      <th>member_birth_year</th>\n",
       "    </tr>\n",
       "  </thead>\n",
       "  <tbody>\n",
       "    <tr>\n",
       "      <th>count</th>\n",
       "      <td>183412.000000</td>\n",
       "      <td>183215.000000</td>\n",
       "      <td>183412.000000</td>\n",
       "      <td>183412.000000</td>\n",
       "      <td>183215.000000</td>\n",
       "      <td>183412.000000</td>\n",
       "      <td>183412.000000</td>\n",
       "      <td>183412.000000</td>\n",
       "      <td>175147.000000</td>\n",
       "    </tr>\n",
       "    <tr>\n",
       "      <th>mean</th>\n",
       "      <td>726.078435</td>\n",
       "      <td>138.590427</td>\n",
       "      <td>37.771223</td>\n",
       "      <td>-122.352664</td>\n",
       "      <td>136.249123</td>\n",
       "      <td>37.771427</td>\n",
       "      <td>-122.352250</td>\n",
       "      <td>4472.906375</td>\n",
       "      <td>1984.806437</td>\n",
       "    </tr>\n",
       "    <tr>\n",
       "      <th>std</th>\n",
       "      <td>1794.389780</td>\n",
       "      <td>111.778864</td>\n",
       "      <td>0.099581</td>\n",
       "      <td>0.117097</td>\n",
       "      <td>111.515131</td>\n",
       "      <td>0.099490</td>\n",
       "      <td>0.116673</td>\n",
       "      <td>1664.383394</td>\n",
       "      <td>10.116689</td>\n",
       "    </tr>\n",
       "    <tr>\n",
       "      <th>min</th>\n",
       "      <td>61.000000</td>\n",
       "      <td>3.000000</td>\n",
       "      <td>37.317298</td>\n",
       "      <td>-122.453704</td>\n",
       "      <td>3.000000</td>\n",
       "      <td>37.317298</td>\n",
       "      <td>-122.453704</td>\n",
       "      <td>11.000000</td>\n",
       "      <td>1878.000000</td>\n",
       "    </tr>\n",
       "    <tr>\n",
       "      <th>25%</th>\n",
       "      <td>325.000000</td>\n",
       "      <td>47.000000</td>\n",
       "      <td>37.770083</td>\n",
       "      <td>-122.412408</td>\n",
       "      <td>44.000000</td>\n",
       "      <td>37.770407</td>\n",
       "      <td>-122.411726</td>\n",
       "      <td>3777.000000</td>\n",
       "      <td>1980.000000</td>\n",
       "    </tr>\n",
       "    <tr>\n",
       "      <th>50%</th>\n",
       "      <td>514.000000</td>\n",
       "      <td>104.000000</td>\n",
       "      <td>37.780760</td>\n",
       "      <td>-122.398285</td>\n",
       "      <td>100.000000</td>\n",
       "      <td>37.781010</td>\n",
       "      <td>-122.398279</td>\n",
       "      <td>4958.000000</td>\n",
       "      <td>1987.000000</td>\n",
       "    </tr>\n",
       "    <tr>\n",
       "      <th>75%</th>\n",
       "      <td>796.000000</td>\n",
       "      <td>239.000000</td>\n",
       "      <td>37.797280</td>\n",
       "      <td>-122.286533</td>\n",
       "      <td>235.000000</td>\n",
       "      <td>37.797320</td>\n",
       "      <td>-122.288045</td>\n",
       "      <td>5502.000000</td>\n",
       "      <td>1992.000000</td>\n",
       "    </tr>\n",
       "    <tr>\n",
       "      <th>max</th>\n",
       "      <td>85444.000000</td>\n",
       "      <td>398.000000</td>\n",
       "      <td>37.880222</td>\n",
       "      <td>-121.874119</td>\n",
       "      <td>398.000000</td>\n",
       "      <td>37.880222</td>\n",
       "      <td>-121.874119</td>\n",
       "      <td>6645.000000</td>\n",
       "      <td>2001.000000</td>\n",
       "    </tr>\n",
       "  </tbody>\n",
       "</table>\n",
       "</div>"
      ],
      "text/plain": [
       "        duration_sec  start_station_id  start_station_latitude  \\\n",
       "count  183412.000000     183215.000000           183412.000000   \n",
       "mean      726.078435        138.590427               37.771223   \n",
       "std      1794.389780        111.778864                0.099581   \n",
       "min        61.000000          3.000000               37.317298   \n",
       "25%       325.000000         47.000000               37.770083   \n",
       "50%       514.000000        104.000000               37.780760   \n",
       "75%       796.000000        239.000000               37.797280   \n",
       "max     85444.000000        398.000000               37.880222   \n",
       "\n",
       "       start_station_longitude  end_station_id  end_station_latitude  \\\n",
       "count            183412.000000   183215.000000         183412.000000   \n",
       "mean               -122.352664      136.249123             37.771427   \n",
       "std                   0.117097      111.515131              0.099490   \n",
       "min                -122.453704        3.000000             37.317298   \n",
       "25%                -122.412408       44.000000             37.770407   \n",
       "50%                -122.398285      100.000000             37.781010   \n",
       "75%                -122.286533      235.000000             37.797320   \n",
       "max                -121.874119      398.000000             37.880222   \n",
       "\n",
       "       end_station_longitude        bike_id  member_birth_year  \n",
       "count          183412.000000  183412.000000      175147.000000  \n",
       "mean             -122.352250    4472.906375        1984.806437  \n",
       "std                 0.116673    1664.383394          10.116689  \n",
       "min              -122.453704      11.000000        1878.000000  \n",
       "25%              -122.411726    3777.000000        1980.000000  \n",
       "50%              -122.398279    4958.000000        1987.000000  \n",
       "75%              -122.288045    5502.000000        1992.000000  \n",
       "max              -121.874119    6645.000000        2001.000000  "
      ]
     },
     "execution_count": 21,
     "metadata": {},
     "output_type": "execute_result"
    }
   ],
   "source": [
    "#To have a close look at the distribution of  the trip duration coluumn\n",
    "\n",
    "gobike.describe()"
   ]
  },
  {
   "cell_type": "markdown",
   "id": "5b945f72",
   "metadata": {},
   "source": [
    "The minimum trip duration recorded is 61 seconds. Let's have a closer look. "
   ]
  },
  {
   "cell_type": "code",
   "execution_count": 22,
   "id": "ca011e5c",
   "metadata": {},
   "outputs": [
    {
     "data": {
      "text/html": [
       "<div>\n",
       "<style scoped>\n",
       "    .dataframe tbody tr th:only-of-type {\n",
       "        vertical-align: middle;\n",
       "    }\n",
       "\n",
       "    .dataframe tbody tr th {\n",
       "        vertical-align: top;\n",
       "    }\n",
       "\n",
       "    .dataframe thead th {\n",
       "        text-align: right;\n",
       "    }\n",
       "</style>\n",
       "<table border=\"1\" class=\"dataframe\">\n",
       "  <thead>\n",
       "    <tr style=\"text-align: right;\">\n",
       "      <th></th>\n",
       "      <th>duration_sec</th>\n",
       "      <th>start_time</th>\n",
       "      <th>end_time</th>\n",
       "      <th>start_station_id</th>\n",
       "      <th>start_station_name</th>\n",
       "      <th>start_station_latitude</th>\n",
       "      <th>start_station_longitude</th>\n",
       "      <th>end_station_id</th>\n",
       "      <th>end_station_name</th>\n",
       "      <th>end_station_latitude</th>\n",
       "      <th>end_station_longitude</th>\n",
       "      <th>bike_id</th>\n",
       "      <th>user_type</th>\n",
       "      <th>member_birth_year</th>\n",
       "      <th>member_gender</th>\n",
       "      <th>bike_share_for_all_trip</th>\n",
       "    </tr>\n",
       "  </thead>\n",
       "  <tbody>\n",
       "    <tr>\n",
       "      <th>18578</th>\n",
       "      <td>61</td>\n",
       "      <td>2019-02-26 18:23:44.2830</td>\n",
       "      <td>2019-02-26 18:24:45.5230</td>\n",
       "      <td>368.0</td>\n",
       "      <td>Myrtle St at Polk St</td>\n",
       "      <td>37.785434</td>\n",
       "      <td>-122.419622</td>\n",
       "      <td>368.0</td>\n",
       "      <td>Myrtle St at Polk St</td>\n",
       "      <td>37.785434</td>\n",
       "      <td>-122.419622</td>\n",
       "      <td>5333</td>\n",
       "      <td>Subscriber</td>\n",
       "      <td>1989.0</td>\n",
       "      <td>Female</td>\n",
       "      <td>No</td>\n",
       "    </tr>\n",
       "    <tr>\n",
       "      <th>19581</th>\n",
       "      <td>61</td>\n",
       "      <td>2019-02-26 16:40:53.1210</td>\n",
       "      <td>2019-02-26 16:41:54.4510</td>\n",
       "      <td>43.0</td>\n",
       "      <td>San Francisco Public Library (Grove St at Hyde...</td>\n",
       "      <td>37.778768</td>\n",
       "      <td>-122.415929</td>\n",
       "      <td>43.0</td>\n",
       "      <td>San Francisco Public Library (Grove St at Hyde...</td>\n",
       "      <td>37.778768</td>\n",
       "      <td>-122.415929</td>\n",
       "      <td>5306</td>\n",
       "      <td>Subscriber</td>\n",
       "      <td>1987.0</td>\n",
       "      <td>Female</td>\n",
       "      <td>No</td>\n",
       "    </tr>\n",
       "    <tr>\n",
       "      <th>27017</th>\n",
       "      <td>61</td>\n",
       "      <td>2019-02-25 10:31:18.4150</td>\n",
       "      <td>2019-02-25 10:32:19.7480</td>\n",
       "      <td>59.0</td>\n",
       "      <td>S Van Ness Ave at Market St</td>\n",
       "      <td>37.774814</td>\n",
       "      <td>-122.418954</td>\n",
       "      <td>59.0</td>\n",
       "      <td>S Van Ness Ave at Market St</td>\n",
       "      <td>37.774814</td>\n",
       "      <td>-122.418954</td>\n",
       "      <td>5921</td>\n",
       "      <td>Subscriber</td>\n",
       "      <td>1972.0</td>\n",
       "      <td>Male</td>\n",
       "      <td>Yes</td>\n",
       "    </tr>\n",
       "    <tr>\n",
       "      <th>44301</th>\n",
       "      <td>61</td>\n",
       "      <td>2019-02-22 15:09:57.0480</td>\n",
       "      <td>2019-02-22 15:10:58.7420</td>\n",
       "      <td>310.0</td>\n",
       "      <td>San Fernando St at 4th St</td>\n",
       "      <td>37.335885</td>\n",
       "      <td>-121.885660</td>\n",
       "      <td>280.0</td>\n",
       "      <td>San Fernando St at 7th St</td>\n",
       "      <td>37.337122</td>\n",
       "      <td>-121.883215</td>\n",
       "      <td>6347</td>\n",
       "      <td>Subscriber</td>\n",
       "      <td>1989.0</td>\n",
       "      <td>Male</td>\n",
       "      <td>Yes</td>\n",
       "    </tr>\n",
       "    <tr>\n",
       "      <th>44787</th>\n",
       "      <td>61</td>\n",
       "      <td>2019-02-22 13:56:21.9760</td>\n",
       "      <td>2019-02-22 13:57:23.4650</td>\n",
       "      <td>30.0</td>\n",
       "      <td>San Francisco Caltrain (Townsend St at 4th St)</td>\n",
       "      <td>37.776598</td>\n",
       "      <td>-122.395282</td>\n",
       "      <td>81.0</td>\n",
       "      <td>Berry St at 4th St</td>\n",
       "      <td>37.775880</td>\n",
       "      <td>-122.393170</td>\n",
       "      <td>6150</td>\n",
       "      <td>Subscriber</td>\n",
       "      <td>1931.0</td>\n",
       "      <td>Male</td>\n",
       "      <td>No</td>\n",
       "    </tr>\n",
       "    <tr>\n",
       "      <th>51120</th>\n",
       "      <td>61</td>\n",
       "      <td>2019-02-21 18:27:34.9930</td>\n",
       "      <td>2019-02-21 18:28:36.6300</td>\n",
       "      <td>113.0</td>\n",
       "      <td>Franklin Square</td>\n",
       "      <td>37.764555</td>\n",
       "      <td>-122.410345</td>\n",
       "      <td>100.0</td>\n",
       "      <td>Bryant St at 15th St</td>\n",
       "      <td>37.767100</td>\n",
       "      <td>-122.410662</td>\n",
       "      <td>6515</td>\n",
       "      <td>Subscriber</td>\n",
       "      <td>1984.0</td>\n",
       "      <td>Male</td>\n",
       "      <td>No</td>\n",
       "    </tr>\n",
       "    <tr>\n",
       "      <th>58992</th>\n",
       "      <td>61</td>\n",
       "      <td>2019-02-20 21:44:00.1540</td>\n",
       "      <td>2019-02-20 21:45:01.2350</td>\n",
       "      <td>85.0</td>\n",
       "      <td>Church St at Duboce Ave</td>\n",
       "      <td>37.770083</td>\n",
       "      <td>-122.429156</td>\n",
       "      <td>85.0</td>\n",
       "      <td>Church St at Duboce Ave</td>\n",
       "      <td>37.770083</td>\n",
       "      <td>-122.429156</td>\n",
       "      <td>4351</td>\n",
       "      <td>Subscriber</td>\n",
       "      <td>1994.0</td>\n",
       "      <td>Male</td>\n",
       "      <td>No</td>\n",
       "    </tr>\n",
       "    <tr>\n",
       "      <th>64088</th>\n",
       "      <td>61</td>\n",
       "      <td>2019-02-20 13:08:18.2850</td>\n",
       "      <td>2019-02-20 13:09:19.4330</td>\n",
       "      <td>67.0</td>\n",
       "      <td>San Francisco Caltrain Station 2  (Townsend St...</td>\n",
       "      <td>37.776639</td>\n",
       "      <td>-122.395526</td>\n",
       "      <td>80.0</td>\n",
       "      <td>Townsend St at 5th St</td>\n",
       "      <td>37.775235</td>\n",
       "      <td>-122.397437</td>\n",
       "      <td>2090</td>\n",
       "      <td>Subscriber</td>\n",
       "      <td>1931.0</td>\n",
       "      <td>Male</td>\n",
       "      <td>No</td>\n",
       "    </tr>\n",
       "    <tr>\n",
       "      <th>80047</th>\n",
       "      <td>61</td>\n",
       "      <td>2019-02-18 16:31:12.8960</td>\n",
       "      <td>2019-02-18 16:32:14.5880</td>\n",
       "      <td>89.0</td>\n",
       "      <td>Division St at Potrero Ave</td>\n",
       "      <td>37.769218</td>\n",
       "      <td>-122.407646</td>\n",
       "      <td>101.0</td>\n",
       "      <td>15th St at Potrero Ave</td>\n",
       "      <td>37.767079</td>\n",
       "      <td>-122.407359</td>\n",
       "      <td>6195</td>\n",
       "      <td>Subscriber</td>\n",
       "      <td>1931.0</td>\n",
       "      <td>Male</td>\n",
       "      <td>No</td>\n",
       "    </tr>\n",
       "    <tr>\n",
       "      <th>82564</th>\n",
       "      <td>61</td>\n",
       "      <td>2019-02-18 09:53:31.3990</td>\n",
       "      <td>2019-02-18 09:54:33.1620</td>\n",
       "      <td>249.0</td>\n",
       "      <td>Russell St at College Ave</td>\n",
       "      <td>37.858473</td>\n",
       "      <td>-122.253253</td>\n",
       "      <td>249.0</td>\n",
       "      <td>Russell St at College Ave</td>\n",
       "      <td>37.858473</td>\n",
       "      <td>-122.253253</td>\n",
       "      <td>3054</td>\n",
       "      <td>Subscriber</td>\n",
       "      <td>1990.0</td>\n",
       "      <td>Male</td>\n",
       "      <td>No</td>\n",
       "    </tr>\n",
       "    <tr>\n",
       "      <th>85488</th>\n",
       "      <td>61</td>\n",
       "      <td>2019-02-17 15:12:01.6440</td>\n",
       "      <td>2019-02-17 15:13:03.1630</td>\n",
       "      <td>7.0</td>\n",
       "      <td>Frank H Ogawa Plaza</td>\n",
       "      <td>37.804562</td>\n",
       "      <td>-122.271738</td>\n",
       "      <td>7.0</td>\n",
       "      <td>Frank H Ogawa Plaza</td>\n",
       "      <td>37.804562</td>\n",
       "      <td>-122.271738</td>\n",
       "      <td>4787</td>\n",
       "      <td>Subscriber</td>\n",
       "      <td>1986.0</td>\n",
       "      <td>Female</td>\n",
       "      <td>No</td>\n",
       "    </tr>\n",
       "    <tr>\n",
       "      <th>103565</th>\n",
       "      <td>61</td>\n",
       "      <td>2019-02-14 12:26:46.0820</td>\n",
       "      <td>2019-02-14 12:27:47.6010</td>\n",
       "      <td>280.0</td>\n",
       "      <td>San Fernando St at 7th St</td>\n",
       "      <td>37.337122</td>\n",
       "      <td>-121.883215</td>\n",
       "      <td>279.0</td>\n",
       "      <td>Santa Clara St at 7th St</td>\n",
       "      <td>37.339146</td>\n",
       "      <td>-121.884105</td>\n",
       "      <td>3890</td>\n",
       "      <td>Subscriber</td>\n",
       "      <td>1999.0</td>\n",
       "      <td>Male</td>\n",
       "      <td>Yes</td>\n",
       "    </tr>\n",
       "    <tr>\n",
       "      <th>121470</th>\n",
       "      <td>61</td>\n",
       "      <td>2019-02-11 15:15:32.2440</td>\n",
       "      <td>2019-02-11 15:16:33.7810</td>\n",
       "      <td>345.0</td>\n",
       "      <td>Hubbell St at 16th St</td>\n",
       "      <td>37.766483</td>\n",
       "      <td>-122.398279</td>\n",
       "      <td>102.0</td>\n",
       "      <td>Irwin St at 8th St</td>\n",
       "      <td>37.766883</td>\n",
       "      <td>-122.399579</td>\n",
       "      <td>1697</td>\n",
       "      <td>Subscriber</td>\n",
       "      <td>1994.0</td>\n",
       "      <td>Female</td>\n",
       "      <td>No</td>\n",
       "    </tr>\n",
       "    <tr>\n",
       "      <th>134955</th>\n",
       "      <td>61</td>\n",
       "      <td>2019-02-08 16:25:31.2390</td>\n",
       "      <td>2019-02-08 16:26:32.7350</td>\n",
       "      <td>42.0</td>\n",
       "      <td>San Francisco City Hall (Polk St at Grove St)</td>\n",
       "      <td>37.778650</td>\n",
       "      <td>-122.418230</td>\n",
       "      <td>43.0</td>\n",
       "      <td>San Francisco Public Library (Grove St at Hyde...</td>\n",
       "      <td>37.778768</td>\n",
       "      <td>-122.415929</td>\n",
       "      <td>5570</td>\n",
       "      <td>Subscriber</td>\n",
       "      <td>1976.0</td>\n",
       "      <td>Male</td>\n",
       "      <td>No</td>\n",
       "    </tr>\n",
       "    <tr>\n",
       "      <th>154115</th>\n",
       "      <td>61</td>\n",
       "      <td>2019-02-06 10:36:44.0880</td>\n",
       "      <td>2019-02-06 10:37:46.0510</td>\n",
       "      <td>17.0</td>\n",
       "      <td>Embarcadero BART Station (Beale St at Market St)</td>\n",
       "      <td>37.792251</td>\n",
       "      <td>-122.397086</td>\n",
       "      <td>20.0</td>\n",
       "      <td>Mechanics Monument Plaza (Market St at Bush St)</td>\n",
       "      <td>37.791300</td>\n",
       "      <td>-122.399051</td>\n",
       "      <td>3716</td>\n",
       "      <td>Subscriber</td>\n",
       "      <td>1974.0</td>\n",
       "      <td>Male</td>\n",
       "      <td>No</td>\n",
       "    </tr>\n",
       "    <tr>\n",
       "      <th>157305</th>\n",
       "      <td>61</td>\n",
       "      <td>2019-02-05 23:05:20.0990</td>\n",
       "      <td>2019-02-05 23:06:21.5550</td>\n",
       "      <td>134.0</td>\n",
       "      <td>Valencia St at 24th St</td>\n",
       "      <td>37.752428</td>\n",
       "      <td>-122.420628</td>\n",
       "      <td>133.0</td>\n",
       "      <td>Valencia St at 22nd St</td>\n",
       "      <td>37.755213</td>\n",
       "      <td>-122.420975</td>\n",
       "      <td>4911</td>\n",
       "      <td>Subscriber</td>\n",
       "      <td>1995.0</td>\n",
       "      <td>Male</td>\n",
       "      <td>No</td>\n",
       "    </tr>\n",
       "    <tr>\n",
       "      <th>169882</th>\n",
       "      <td>61</td>\n",
       "      <td>2019-02-04 09:02:26.6670</td>\n",
       "      <td>2019-02-04 09:03:28.5180</td>\n",
       "      <td>30.0</td>\n",
       "      <td>San Francisco Caltrain (Townsend St at 4th St)</td>\n",
       "      <td>37.776598</td>\n",
       "      <td>-122.395282</td>\n",
       "      <td>30.0</td>\n",
       "      <td>San Francisco Caltrain (Townsend St at 4th St)</td>\n",
       "      <td>37.776598</td>\n",
       "      <td>-122.395282</td>\n",
       "      <td>5463</td>\n",
       "      <td>Subscriber</td>\n",
       "      <td>1994.0</td>\n",
       "      <td>Male</td>\n",
       "      <td>No</td>\n",
       "    </tr>\n",
       "    <tr>\n",
       "      <th>179646</th>\n",
       "      <td>61</td>\n",
       "      <td>2019-02-01 13:17:45.2220</td>\n",
       "      <td>2019-02-01 13:18:46.6470</td>\n",
       "      <td>243.0</td>\n",
       "      <td>Bancroft Way at College Ave</td>\n",
       "      <td>37.869360</td>\n",
       "      <td>-122.254337</td>\n",
       "      <td>239.0</td>\n",
       "      <td>Bancroft Way at Telegraph Ave</td>\n",
       "      <td>37.868813</td>\n",
       "      <td>-122.258764</td>\n",
       "      <td>5102</td>\n",
       "      <td>Subscriber</td>\n",
       "      <td>1989.0</td>\n",
       "      <td>Male</td>\n",
       "      <td>Yes</td>\n",
       "    </tr>\n",
       "  </tbody>\n",
       "</table>\n",
       "</div>"
      ],
      "text/plain": [
       "        duration_sec                start_time                  end_time  \\\n",
       "18578             61  2019-02-26 18:23:44.2830  2019-02-26 18:24:45.5230   \n",
       "19581             61  2019-02-26 16:40:53.1210  2019-02-26 16:41:54.4510   \n",
       "27017             61  2019-02-25 10:31:18.4150  2019-02-25 10:32:19.7480   \n",
       "44301             61  2019-02-22 15:09:57.0480  2019-02-22 15:10:58.7420   \n",
       "44787             61  2019-02-22 13:56:21.9760  2019-02-22 13:57:23.4650   \n",
       "51120             61  2019-02-21 18:27:34.9930  2019-02-21 18:28:36.6300   \n",
       "58992             61  2019-02-20 21:44:00.1540  2019-02-20 21:45:01.2350   \n",
       "64088             61  2019-02-20 13:08:18.2850  2019-02-20 13:09:19.4330   \n",
       "80047             61  2019-02-18 16:31:12.8960  2019-02-18 16:32:14.5880   \n",
       "82564             61  2019-02-18 09:53:31.3990  2019-02-18 09:54:33.1620   \n",
       "85488             61  2019-02-17 15:12:01.6440  2019-02-17 15:13:03.1630   \n",
       "103565            61  2019-02-14 12:26:46.0820  2019-02-14 12:27:47.6010   \n",
       "121470            61  2019-02-11 15:15:32.2440  2019-02-11 15:16:33.7810   \n",
       "134955            61  2019-02-08 16:25:31.2390  2019-02-08 16:26:32.7350   \n",
       "154115            61  2019-02-06 10:36:44.0880  2019-02-06 10:37:46.0510   \n",
       "157305            61  2019-02-05 23:05:20.0990  2019-02-05 23:06:21.5550   \n",
       "169882            61  2019-02-04 09:02:26.6670  2019-02-04 09:03:28.5180   \n",
       "179646            61  2019-02-01 13:17:45.2220  2019-02-01 13:18:46.6470   \n",
       "\n",
       "        start_station_id                                 start_station_name  \\\n",
       "18578              368.0                               Myrtle St at Polk St   \n",
       "19581               43.0  San Francisco Public Library (Grove St at Hyde...   \n",
       "27017               59.0                        S Van Ness Ave at Market St   \n",
       "44301              310.0                          San Fernando St at 4th St   \n",
       "44787               30.0     San Francisco Caltrain (Townsend St at 4th St)   \n",
       "51120              113.0                                    Franklin Square   \n",
       "58992               85.0                            Church St at Duboce Ave   \n",
       "64088               67.0  San Francisco Caltrain Station 2  (Townsend St...   \n",
       "80047               89.0                         Division St at Potrero Ave   \n",
       "82564              249.0                          Russell St at College Ave   \n",
       "85488                7.0                                Frank H Ogawa Plaza   \n",
       "103565             280.0                          San Fernando St at 7th St   \n",
       "121470             345.0                              Hubbell St at 16th St   \n",
       "134955              42.0      San Francisco City Hall (Polk St at Grove St)   \n",
       "154115              17.0   Embarcadero BART Station (Beale St at Market St)   \n",
       "157305             134.0                             Valencia St at 24th St   \n",
       "169882              30.0     San Francisco Caltrain (Townsend St at 4th St)   \n",
       "179646             243.0                        Bancroft Way at College Ave   \n",
       "\n",
       "        start_station_latitude  start_station_longitude  end_station_id  \\\n",
       "18578                37.785434              -122.419622           368.0   \n",
       "19581                37.778768              -122.415929            43.0   \n",
       "27017                37.774814              -122.418954            59.0   \n",
       "44301                37.335885              -121.885660           280.0   \n",
       "44787                37.776598              -122.395282            81.0   \n",
       "51120                37.764555              -122.410345           100.0   \n",
       "58992                37.770083              -122.429156            85.0   \n",
       "64088                37.776639              -122.395526            80.0   \n",
       "80047                37.769218              -122.407646           101.0   \n",
       "82564                37.858473              -122.253253           249.0   \n",
       "85488                37.804562              -122.271738             7.0   \n",
       "103565               37.337122              -121.883215           279.0   \n",
       "121470               37.766483              -122.398279           102.0   \n",
       "134955               37.778650              -122.418230            43.0   \n",
       "154115               37.792251              -122.397086            20.0   \n",
       "157305               37.752428              -122.420628           133.0   \n",
       "169882               37.776598              -122.395282            30.0   \n",
       "179646               37.869360              -122.254337           239.0   \n",
       "\n",
       "                                         end_station_name  \\\n",
       "18578                                Myrtle St at Polk St   \n",
       "19581   San Francisco Public Library (Grove St at Hyde...   \n",
       "27017                         S Van Ness Ave at Market St   \n",
       "44301                           San Fernando St at 7th St   \n",
       "44787                                  Berry St at 4th St   \n",
       "51120                                Bryant St at 15th St   \n",
       "58992                             Church St at Duboce Ave   \n",
       "64088                               Townsend St at 5th St   \n",
       "80047                              15th St at Potrero Ave   \n",
       "82564                           Russell St at College Ave   \n",
       "85488                                 Frank H Ogawa Plaza   \n",
       "103565                           Santa Clara St at 7th St   \n",
       "121470                                 Irwin St at 8th St   \n",
       "134955  San Francisco Public Library (Grove St at Hyde...   \n",
       "154115    Mechanics Monument Plaza (Market St at Bush St)   \n",
       "157305                             Valencia St at 22nd St   \n",
       "169882     San Francisco Caltrain (Townsend St at 4th St)   \n",
       "179646                      Bancroft Way at Telegraph Ave   \n",
       "\n",
       "        end_station_latitude  end_station_longitude  bike_id   user_type  \\\n",
       "18578              37.785434            -122.419622     5333  Subscriber   \n",
       "19581              37.778768            -122.415929     5306  Subscriber   \n",
       "27017              37.774814            -122.418954     5921  Subscriber   \n",
       "44301              37.337122            -121.883215     6347  Subscriber   \n",
       "44787              37.775880            -122.393170     6150  Subscriber   \n",
       "51120              37.767100            -122.410662     6515  Subscriber   \n",
       "58992              37.770083            -122.429156     4351  Subscriber   \n",
       "64088              37.775235            -122.397437     2090  Subscriber   \n",
       "80047              37.767079            -122.407359     6195  Subscriber   \n",
       "82564              37.858473            -122.253253     3054  Subscriber   \n",
       "85488              37.804562            -122.271738     4787  Subscriber   \n",
       "103565             37.339146            -121.884105     3890  Subscriber   \n",
       "121470             37.766883            -122.399579     1697  Subscriber   \n",
       "134955             37.778768            -122.415929     5570  Subscriber   \n",
       "154115             37.791300            -122.399051     3716  Subscriber   \n",
       "157305             37.755213            -122.420975     4911  Subscriber   \n",
       "169882             37.776598            -122.395282     5463  Subscriber   \n",
       "179646             37.868813            -122.258764     5102  Subscriber   \n",
       "\n",
       "        member_birth_year member_gender bike_share_for_all_trip  \n",
       "18578              1989.0        Female                      No  \n",
       "19581              1987.0        Female                      No  \n",
       "27017              1972.0          Male                     Yes  \n",
       "44301              1989.0          Male                     Yes  \n",
       "44787              1931.0          Male                      No  \n",
       "51120              1984.0          Male                      No  \n",
       "58992              1994.0          Male                      No  \n",
       "64088              1931.0          Male                      No  \n",
       "80047              1931.0          Male                      No  \n",
       "82564              1990.0          Male                      No  \n",
       "85488              1986.0        Female                      No  \n",
       "103565             1999.0          Male                     Yes  \n",
       "121470             1994.0        Female                      No  \n",
       "134955             1976.0          Male                      No  \n",
       "154115             1974.0          Male                      No  \n",
       "157305             1995.0          Male                      No  \n",
       "169882             1994.0          Male                      No  \n",
       "179646             1989.0          Male                     Yes  "
      ]
     },
     "execution_count": 22,
     "metadata": {},
     "output_type": "execute_result"
    }
   ],
   "source": [
    "gobike[gobike.duration_sec == 61]"
   ]
  },
  {
   "cell_type": "markdown",
   "id": "5c189ecc",
   "metadata": {},
   "source": [
    "Is this a default record? Are they records of actual trips?\n",
    "\n",
    "The data will be left untouched as this isn't certain."
   ]
  },
  {
   "cell_type": "code",
   "execution_count": 23,
   "id": "80d0c965",
   "metadata": {},
   "outputs": [
    {
     "data": {
      "text/html": [
       "<div>\n",
       "<style scoped>\n",
       "    .dataframe tbody tr th:only-of-type {\n",
       "        vertical-align: middle;\n",
       "    }\n",
       "\n",
       "    .dataframe tbody tr th {\n",
       "        vertical-align: top;\n",
       "    }\n",
       "\n",
       "    .dataframe thead th {\n",
       "        text-align: right;\n",
       "    }\n",
       "</style>\n",
       "<table border=\"1\" class=\"dataframe\">\n",
       "  <thead>\n",
       "    <tr style=\"text-align: right;\">\n",
       "      <th></th>\n",
       "      <th>duration_sec</th>\n",
       "      <th>start_time</th>\n",
       "      <th>end_time</th>\n",
       "      <th>start_station_id</th>\n",
       "      <th>start_station_name</th>\n",
       "      <th>start_station_latitude</th>\n",
       "      <th>start_station_longitude</th>\n",
       "      <th>end_station_id</th>\n",
       "      <th>end_station_name</th>\n",
       "      <th>end_station_latitude</th>\n",
       "      <th>end_station_longitude</th>\n",
       "      <th>bike_id</th>\n",
       "      <th>user_type</th>\n",
       "      <th>member_birth_year</th>\n",
       "      <th>member_gender</th>\n",
       "      <th>bike_share_for_all_trip</th>\n",
       "    </tr>\n",
       "  </thead>\n",
       "  <tbody>\n",
       "    <tr>\n",
       "      <th>143345</th>\n",
       "      <td>386</td>\n",
       "      <td>2019-02-07 15:45:14.5610</td>\n",
       "      <td>2019-02-07 15:51:40.5830</td>\n",
       "      <td>113.0</td>\n",
       "      <td>Franklin Square</td>\n",
       "      <td>37.764555</td>\n",
       "      <td>-122.410345</td>\n",
       "      <td>223.0</td>\n",
       "      <td>16th St Mission BART Station 2</td>\n",
       "      <td>37.764765</td>\n",
       "      <td>-122.420091</td>\n",
       "      <td>4979</td>\n",
       "      <td>Subscriber</td>\n",
       "      <td>1987.0</td>\n",
       "      <td>Male</td>\n",
       "      <td>No</td>\n",
       "    </tr>\n",
       "    <tr>\n",
       "      <th>154019</th>\n",
       "      <td>387</td>\n",
       "      <td>2019-02-06 10:49:29.7170</td>\n",
       "      <td>2019-02-06 10:55:57.1760</td>\n",
       "      <td>356.0</td>\n",
       "      <td>Valencia St at Clinton Park</td>\n",
       "      <td>37.769188</td>\n",
       "      <td>-122.422285</td>\n",
       "      <td>41.0</td>\n",
       "      <td>Golden Gate Ave at Polk St</td>\n",
       "      <td>37.781270</td>\n",
       "      <td>-122.418740</td>\n",
       "      <td>4984</td>\n",
       "      <td>Subscriber</td>\n",
       "      <td>1991.0</td>\n",
       "      <td>Male</td>\n",
       "      <td>No</td>\n",
       "    </tr>\n",
       "    <tr>\n",
       "      <th>79053</th>\n",
       "      <td>2015</td>\n",
       "      <td>2019-02-18 17:42:02.9030</td>\n",
       "      <td>2019-02-18 18:15:38.8570</td>\n",
       "      <td>274.0</td>\n",
       "      <td>Oregon St at Adeline St</td>\n",
       "      <td>37.857567</td>\n",
       "      <td>-122.267558</td>\n",
       "      <td>267.0</td>\n",
       "      <td>Derby St at College Ave</td>\n",
       "      <td>37.861804</td>\n",
       "      <td>-122.253569</td>\n",
       "      <td>5180</td>\n",
       "      <td>Subscriber</td>\n",
       "      <td>1990.0</td>\n",
       "      <td>Female</td>\n",
       "      <td>Yes</td>\n",
       "    </tr>\n",
       "    <tr>\n",
       "      <th>120568</th>\n",
       "      <td>1070</td>\n",
       "      <td>2019-02-11 16:45:36.6750</td>\n",
       "      <td>2019-02-11 17:03:26.7630</td>\n",
       "      <td>122.0</td>\n",
       "      <td>19th St at Mission St</td>\n",
       "      <td>37.760299</td>\n",
       "      <td>-122.418892</td>\n",
       "      <td>41.0</td>\n",
       "      <td>Golden Gate Ave at Polk St</td>\n",
       "      <td>37.781270</td>\n",
       "      <td>-122.418740</td>\n",
       "      <td>2663</td>\n",
       "      <td>Customer</td>\n",
       "      <td>1996.0</td>\n",
       "      <td>Male</td>\n",
       "      <td>No</td>\n",
       "    </tr>\n",
       "    <tr>\n",
       "      <th>116542</th>\n",
       "      <td>1146</td>\n",
       "      <td>2019-02-12 07:30:06.5070</td>\n",
       "      <td>2019-02-12 07:49:12.5830</td>\n",
       "      <td>130.0</td>\n",
       "      <td>22nd St Caltrain Station</td>\n",
       "      <td>37.757288</td>\n",
       "      <td>-122.392051</td>\n",
       "      <td>15.0</td>\n",
       "      <td>San Francisco Ferry Building (Harry Bridges Pl...</td>\n",
       "      <td>37.795392</td>\n",
       "      <td>-122.394203</td>\n",
       "      <td>4733</td>\n",
       "      <td>Subscriber</td>\n",
       "      <td>1990.0</td>\n",
       "      <td>Male</td>\n",
       "      <td>No</td>\n",
       "    </tr>\n",
       "    <tr>\n",
       "      <th>70507</th>\n",
       "      <td>132</td>\n",
       "      <td>2019-02-19 18:19:52.4140</td>\n",
       "      <td>2019-02-19 18:22:05.3810</td>\n",
       "      <td>86.0</td>\n",
       "      <td>Market St at Dolores St</td>\n",
       "      <td>37.769305</td>\n",
       "      <td>-122.426826</td>\n",
       "      <td>95.0</td>\n",
       "      <td>Sanchez St at 15th St</td>\n",
       "      <td>37.766219</td>\n",
       "      <td>-122.431060</td>\n",
       "      <td>5416</td>\n",
       "      <td>Subscriber</td>\n",
       "      <td>1998.0</td>\n",
       "      <td>Male</td>\n",
       "      <td>No</td>\n",
       "    </tr>\n",
       "    <tr>\n",
       "      <th>100547</th>\n",
       "      <td>673</td>\n",
       "      <td>2019-02-14 18:12:18.2930</td>\n",
       "      <td>2019-02-14 18:23:31.5030</td>\n",
       "      <td>61.0</td>\n",
       "      <td>Howard St at 8th St</td>\n",
       "      <td>37.776513</td>\n",
       "      <td>-122.411306</td>\n",
       "      <td>15.0</td>\n",
       "      <td>San Francisco Ferry Building (Harry Bridges Pl...</td>\n",
       "      <td>37.795392</td>\n",
       "      <td>-122.394203</td>\n",
       "      <td>6443</td>\n",
       "      <td>Customer</td>\n",
       "      <td>1969.0</td>\n",
       "      <td>Male</td>\n",
       "      <td>No</td>\n",
       "    </tr>\n",
       "    <tr>\n",
       "      <th>100853</th>\n",
       "      <td>833</td>\n",
       "      <td>2019-02-14 17:55:20.7980</td>\n",
       "      <td>2019-02-14 18:09:14.0540</td>\n",
       "      <td>284.0</td>\n",
       "      <td>Yerba Buena Center for the Arts (Howard St at ...</td>\n",
       "      <td>37.784872</td>\n",
       "      <td>-122.400876</td>\n",
       "      <td>114.0</td>\n",
       "      <td>Rhode Island St at 17th St</td>\n",
       "      <td>37.764478</td>\n",
       "      <td>-122.402570</td>\n",
       "      <td>5916</td>\n",
       "      <td>Customer</td>\n",
       "      <td>1987.0</td>\n",
       "      <td>Female</td>\n",
       "      <td>No</td>\n",
       "    </tr>\n",
       "    <tr>\n",
       "      <th>88213</th>\n",
       "      <td>1040</td>\n",
       "      <td>2019-02-16 19:24:07.3520</td>\n",
       "      <td>2019-02-16 19:41:27.9090</td>\n",
       "      <td>47.0</td>\n",
       "      <td>4th St at Harrison St</td>\n",
       "      <td>37.780955</td>\n",
       "      <td>-122.399749</td>\n",
       "      <td>86.0</td>\n",
       "      <td>Market St at Dolores St</td>\n",
       "      <td>37.769305</td>\n",
       "      <td>-122.426826</td>\n",
       "      <td>6215</td>\n",
       "      <td>Subscriber</td>\n",
       "      <td>1994.0</td>\n",
       "      <td>Male</td>\n",
       "      <td>No</td>\n",
       "    </tr>\n",
       "    <tr>\n",
       "      <th>41002</th>\n",
       "      <td>1819</td>\n",
       "      <td>2019-02-22 18:50:12.1690</td>\n",
       "      <td>2019-02-22 19:20:31.8950</td>\n",
       "      <td>53.0</td>\n",
       "      <td>Grove St at Divisadero</td>\n",
       "      <td>37.775946</td>\n",
       "      <td>-122.437777</td>\n",
       "      <td>4.0</td>\n",
       "      <td>Cyril Magnin St at Ellis St</td>\n",
       "      <td>37.785881</td>\n",
       "      <td>-122.408915</td>\n",
       "      <td>5257</td>\n",
       "      <td>Subscriber</td>\n",
       "      <td>1983.0</td>\n",
       "      <td>Male</td>\n",
       "      <td>Yes</td>\n",
       "    </tr>\n",
       "    <tr>\n",
       "      <th>66437</th>\n",
       "      <td>915</td>\n",
       "      <td>2019-02-20 08:37:32.0450</td>\n",
       "      <td>2019-02-20 08:52:47.5070</td>\n",
       "      <td>58.0</td>\n",
       "      <td>Market St at 10th St</td>\n",
       "      <td>37.776619</td>\n",
       "      <td>-122.417385</td>\n",
       "      <td>28.0</td>\n",
       "      <td>The Embarcadero at Bryant St</td>\n",
       "      <td>37.787168</td>\n",
       "      <td>-122.388098</td>\n",
       "      <td>6498</td>\n",
       "      <td>Subscriber</td>\n",
       "      <td>1985.0</td>\n",
       "      <td>Male</td>\n",
       "      <td>No</td>\n",
       "    </tr>\n",
       "    <tr>\n",
       "      <th>95977</th>\n",
       "      <td>364</td>\n",
       "      <td>2019-02-15 11:53:45.3680</td>\n",
       "      <td>2019-02-15 11:59:49.9150</td>\n",
       "      <td>88.0</td>\n",
       "      <td>11th St at Bryant St</td>\n",
       "      <td>37.770030</td>\n",
       "      <td>-122.411726</td>\n",
       "      <td>110.0</td>\n",
       "      <td>17th &amp; Folsom Street Park (17th St at Folsom St)</td>\n",
       "      <td>37.763708</td>\n",
       "      <td>-122.415204</td>\n",
       "      <td>48</td>\n",
       "      <td>Subscriber</td>\n",
       "      <td>1992.0</td>\n",
       "      <td>Female</td>\n",
       "      <td>No</td>\n",
       "    </tr>\n",
       "    <tr>\n",
       "      <th>29608</th>\n",
       "      <td>572</td>\n",
       "      <td>2019-02-25 07:02:26.3610</td>\n",
       "      <td>2019-02-25 07:11:58.6070</td>\n",
       "      <td>91.0</td>\n",
       "      <td>Berry St at King St</td>\n",
       "      <td>37.771762</td>\n",
       "      <td>-122.398438</td>\n",
       "      <td>16.0</td>\n",
       "      <td>Steuart St at Market St</td>\n",
       "      <td>37.794130</td>\n",
       "      <td>-122.394430</td>\n",
       "      <td>5031</td>\n",
       "      <td>Subscriber</td>\n",
       "      <td>1989.0</td>\n",
       "      <td>Male</td>\n",
       "      <td>No</td>\n",
       "    </tr>\n",
       "    <tr>\n",
       "      <th>70928</th>\n",
       "      <td>872</td>\n",
       "      <td>2019-02-19 17:46:29.7320</td>\n",
       "      <td>2019-02-19 18:01:02.0090</td>\n",
       "      <td>27.0</td>\n",
       "      <td>Beale St at Harrison St</td>\n",
       "      <td>37.788059</td>\n",
       "      <td>-122.391865</td>\n",
       "      <td>114.0</td>\n",
       "      <td>Rhode Island St at 17th St</td>\n",
       "      <td>37.764478</td>\n",
       "      <td>-122.402570</td>\n",
       "      <td>6526</td>\n",
       "      <td>Subscriber</td>\n",
       "      <td>1985.0</td>\n",
       "      <td>Male</td>\n",
       "      <td>No</td>\n",
       "    </tr>\n",
       "    <tr>\n",
       "      <th>146135</th>\n",
       "      <td>200</td>\n",
       "      <td>2019-02-07 09:03:00.2260</td>\n",
       "      <td>2019-02-07 09:06:21.2160</td>\n",
       "      <td>112.0</td>\n",
       "      <td>Harrison St at 17th St</td>\n",
       "      <td>37.763847</td>\n",
       "      <td>-122.413004</td>\n",
       "      <td>99.0</td>\n",
       "      <td>Folsom St at 15th St</td>\n",
       "      <td>37.767037</td>\n",
       "      <td>-122.415442</td>\n",
       "      <td>3704</td>\n",
       "      <td>Subscriber</td>\n",
       "      <td>1982.0</td>\n",
       "      <td>Male</td>\n",
       "      <td>No</td>\n",
       "    </tr>\n",
       "    <tr>\n",
       "      <th>182006</th>\n",
       "      <td>639</td>\n",
       "      <td>2019-02-01 08:37:45.5990</td>\n",
       "      <td>2019-02-01 08:48:25.4020</td>\n",
       "      <td>91.0</td>\n",
       "      <td>Berry St at King St</td>\n",
       "      <td>37.771762</td>\n",
       "      <td>-122.398438</td>\n",
       "      <td>8.0</td>\n",
       "      <td>The Embarcadero at Vallejo St</td>\n",
       "      <td>37.799953</td>\n",
       "      <td>-122.398525</td>\n",
       "      <td>4637</td>\n",
       "      <td>Subscriber</td>\n",
       "      <td>1985.0</td>\n",
       "      <td>Male</td>\n",
       "      <td>No</td>\n",
       "    </tr>\n",
       "    <tr>\n",
       "      <th>15391</th>\n",
       "      <td>809</td>\n",
       "      <td>2019-02-27 09:25:41.3460</td>\n",
       "      <td>2019-02-27 09:39:10.6190</td>\n",
       "      <td>67.0</td>\n",
       "      <td>San Francisco Caltrain Station 2  (Townsend St...</td>\n",
       "      <td>37.776639</td>\n",
       "      <td>-122.395526</td>\n",
       "      <td>44.0</td>\n",
       "      <td>Civic Center/UN Plaza BART Station (Market St ...</td>\n",
       "      <td>37.781074</td>\n",
       "      <td>-122.411738</td>\n",
       "      <td>5908</td>\n",
       "      <td>Subscriber</td>\n",
       "      <td>1979.0</td>\n",
       "      <td>Male</td>\n",
       "      <td>No</td>\n",
       "    </tr>\n",
       "    <tr>\n",
       "      <th>170686</th>\n",
       "      <td>1756</td>\n",
       "      <td>2019-02-04 07:31:08.7420</td>\n",
       "      <td>2019-02-04 08:00:25.2970</td>\n",
       "      <td>195.0</td>\n",
       "      <td>Bay Pl at Vernon St</td>\n",
       "      <td>37.812314</td>\n",
       "      <td>-122.260779</td>\n",
       "      <td>258.0</td>\n",
       "      <td>University Ave at Oxford St</td>\n",
       "      <td>37.872355</td>\n",
       "      <td>-122.266447</td>\n",
       "      <td>791</td>\n",
       "      <td>Subscriber</td>\n",
       "      <td>1985.0</td>\n",
       "      <td>Male</td>\n",
       "      <td>No</td>\n",
       "    </tr>\n",
       "    <tr>\n",
       "      <th>107379</th>\n",
       "      <td>561</td>\n",
       "      <td>2019-02-13 16:19:30.8840</td>\n",
       "      <td>2019-02-13 16:28:52.3440</td>\n",
       "      <td>349.0</td>\n",
       "      <td>Howard St at Mary St</td>\n",
       "      <td>37.781010</td>\n",
       "      <td>-122.405666</td>\n",
       "      <td>104.0</td>\n",
       "      <td>4th St at 16th St</td>\n",
       "      <td>37.767045</td>\n",
       "      <td>-122.390833</td>\n",
       "      <td>6429</td>\n",
       "      <td>Subscriber</td>\n",
       "      <td>NaN</td>\n",
       "      <td>NaN</td>\n",
       "      <td>No</td>\n",
       "    </tr>\n",
       "    <tr>\n",
       "      <th>108744</th>\n",
       "      <td>200</td>\n",
       "      <td>2019-02-13 00:12:37.0520</td>\n",
       "      <td>2019-02-13 00:15:57.6380</td>\n",
       "      <td>176.0</td>\n",
       "      <td>MacArthur BART Station</td>\n",
       "      <td>37.828410</td>\n",
       "      <td>-122.266315</td>\n",
       "      <td>315.0</td>\n",
       "      <td>Market St at 45th St</td>\n",
       "      <td>37.834174</td>\n",
       "      <td>-122.272968</td>\n",
       "      <td>4680</td>\n",
       "      <td>Subscriber</td>\n",
       "      <td>1989.0</td>\n",
       "      <td>Male</td>\n",
       "      <td>No</td>\n",
       "    </tr>\n",
       "  </tbody>\n",
       "</table>\n",
       "</div>"
      ],
      "text/plain": [
       "        duration_sec                start_time                  end_time  \\\n",
       "143345           386  2019-02-07 15:45:14.5610  2019-02-07 15:51:40.5830   \n",
       "154019           387  2019-02-06 10:49:29.7170  2019-02-06 10:55:57.1760   \n",
       "79053           2015  2019-02-18 17:42:02.9030  2019-02-18 18:15:38.8570   \n",
       "120568          1070  2019-02-11 16:45:36.6750  2019-02-11 17:03:26.7630   \n",
       "116542          1146  2019-02-12 07:30:06.5070  2019-02-12 07:49:12.5830   \n",
       "70507            132  2019-02-19 18:19:52.4140  2019-02-19 18:22:05.3810   \n",
       "100547           673  2019-02-14 18:12:18.2930  2019-02-14 18:23:31.5030   \n",
       "100853           833  2019-02-14 17:55:20.7980  2019-02-14 18:09:14.0540   \n",
       "88213           1040  2019-02-16 19:24:07.3520  2019-02-16 19:41:27.9090   \n",
       "41002           1819  2019-02-22 18:50:12.1690  2019-02-22 19:20:31.8950   \n",
       "66437            915  2019-02-20 08:37:32.0450  2019-02-20 08:52:47.5070   \n",
       "95977            364  2019-02-15 11:53:45.3680  2019-02-15 11:59:49.9150   \n",
       "29608            572  2019-02-25 07:02:26.3610  2019-02-25 07:11:58.6070   \n",
       "70928            872  2019-02-19 17:46:29.7320  2019-02-19 18:01:02.0090   \n",
       "146135           200  2019-02-07 09:03:00.2260  2019-02-07 09:06:21.2160   \n",
       "182006           639  2019-02-01 08:37:45.5990  2019-02-01 08:48:25.4020   \n",
       "15391            809  2019-02-27 09:25:41.3460  2019-02-27 09:39:10.6190   \n",
       "170686          1756  2019-02-04 07:31:08.7420  2019-02-04 08:00:25.2970   \n",
       "107379           561  2019-02-13 16:19:30.8840  2019-02-13 16:28:52.3440   \n",
       "108744           200  2019-02-13 00:12:37.0520  2019-02-13 00:15:57.6380   \n",
       "\n",
       "        start_station_id                                 start_station_name  \\\n",
       "143345             113.0                                    Franklin Square   \n",
       "154019             356.0                        Valencia St at Clinton Park   \n",
       "79053              274.0                            Oregon St at Adeline St   \n",
       "120568             122.0                              19th St at Mission St   \n",
       "116542             130.0                           22nd St Caltrain Station   \n",
       "70507               86.0                            Market St at Dolores St   \n",
       "100547              61.0                                Howard St at 8th St   \n",
       "100853             284.0  Yerba Buena Center for the Arts (Howard St at ...   \n",
       "88213               47.0                              4th St at Harrison St   \n",
       "41002               53.0                             Grove St at Divisadero   \n",
       "66437               58.0                               Market St at 10th St   \n",
       "95977               88.0                               11th St at Bryant St   \n",
       "29608               91.0                                Berry St at King St   \n",
       "70928               27.0                            Beale St at Harrison St   \n",
       "146135             112.0                             Harrison St at 17th St   \n",
       "182006              91.0                                Berry St at King St   \n",
       "15391               67.0  San Francisco Caltrain Station 2  (Townsend St...   \n",
       "170686             195.0                                Bay Pl at Vernon St   \n",
       "107379             349.0                               Howard St at Mary St   \n",
       "108744             176.0                             MacArthur BART Station   \n",
       "\n",
       "        start_station_latitude  start_station_longitude  end_station_id  \\\n",
       "143345               37.764555              -122.410345           223.0   \n",
       "154019               37.769188              -122.422285            41.0   \n",
       "79053                37.857567              -122.267558           267.0   \n",
       "120568               37.760299              -122.418892            41.0   \n",
       "116542               37.757288              -122.392051            15.0   \n",
       "70507                37.769305              -122.426826            95.0   \n",
       "100547               37.776513              -122.411306            15.0   \n",
       "100853               37.784872              -122.400876           114.0   \n",
       "88213                37.780955              -122.399749            86.0   \n",
       "41002                37.775946              -122.437777             4.0   \n",
       "66437                37.776619              -122.417385            28.0   \n",
       "95977                37.770030              -122.411726           110.0   \n",
       "29608                37.771762              -122.398438            16.0   \n",
       "70928                37.788059              -122.391865           114.0   \n",
       "146135               37.763847              -122.413004            99.0   \n",
       "182006               37.771762              -122.398438             8.0   \n",
       "15391                37.776639              -122.395526            44.0   \n",
       "170686               37.812314              -122.260779           258.0   \n",
       "107379               37.781010              -122.405666           104.0   \n",
       "108744               37.828410              -122.266315           315.0   \n",
       "\n",
       "                                         end_station_name  \\\n",
       "143345                     16th St Mission BART Station 2   \n",
       "154019                         Golden Gate Ave at Polk St   \n",
       "79053                             Derby St at College Ave   \n",
       "120568                         Golden Gate Ave at Polk St   \n",
       "116542  San Francisco Ferry Building (Harry Bridges Pl...   \n",
       "70507                               Sanchez St at 15th St   \n",
       "100547  San Francisco Ferry Building (Harry Bridges Pl...   \n",
       "100853                         Rhode Island St at 17th St   \n",
       "88213                             Market St at Dolores St   \n",
       "41002                         Cyril Magnin St at Ellis St   \n",
       "66437                        The Embarcadero at Bryant St   \n",
       "95977    17th & Folsom Street Park (17th St at Folsom St)   \n",
       "29608                             Steuart St at Market St   \n",
       "70928                          Rhode Island St at 17th St   \n",
       "146135                               Folsom St at 15th St   \n",
       "182006                      The Embarcadero at Vallejo St   \n",
       "15391   Civic Center/UN Plaza BART Station (Market St ...   \n",
       "170686                        University Ave at Oxford St   \n",
       "107379                                  4th St at 16th St   \n",
       "108744                               Market St at 45th St   \n",
       "\n",
       "        end_station_latitude  end_station_longitude  bike_id   user_type  \\\n",
       "143345             37.764765            -122.420091     4979  Subscriber   \n",
       "154019             37.781270            -122.418740     4984  Subscriber   \n",
       "79053              37.861804            -122.253569     5180  Subscriber   \n",
       "120568             37.781270            -122.418740     2663    Customer   \n",
       "116542             37.795392            -122.394203     4733  Subscriber   \n",
       "70507              37.766219            -122.431060     5416  Subscriber   \n",
       "100547             37.795392            -122.394203     6443    Customer   \n",
       "100853             37.764478            -122.402570     5916    Customer   \n",
       "88213              37.769305            -122.426826     6215  Subscriber   \n",
       "41002              37.785881            -122.408915     5257  Subscriber   \n",
       "66437              37.787168            -122.388098     6498  Subscriber   \n",
       "95977              37.763708            -122.415204       48  Subscriber   \n",
       "29608              37.794130            -122.394430     5031  Subscriber   \n",
       "70928              37.764478            -122.402570     6526  Subscriber   \n",
       "146135             37.767037            -122.415442     3704  Subscriber   \n",
       "182006             37.799953            -122.398525     4637  Subscriber   \n",
       "15391              37.781074            -122.411738     5908  Subscriber   \n",
       "170686             37.872355            -122.266447      791  Subscriber   \n",
       "107379             37.767045            -122.390833     6429  Subscriber   \n",
       "108744             37.834174            -122.272968     4680  Subscriber   \n",
       "\n",
       "        member_birth_year member_gender bike_share_for_all_trip  \n",
       "143345             1987.0          Male                      No  \n",
       "154019             1991.0          Male                      No  \n",
       "79053              1990.0        Female                     Yes  \n",
       "120568             1996.0          Male                      No  \n",
       "116542             1990.0          Male                      No  \n",
       "70507              1998.0          Male                      No  \n",
       "100547             1969.0          Male                      No  \n",
       "100853             1987.0        Female                      No  \n",
       "88213              1994.0          Male                      No  \n",
       "41002              1983.0          Male                     Yes  \n",
       "66437              1985.0          Male                      No  \n",
       "95977              1992.0        Female                      No  \n",
       "29608              1989.0          Male                      No  \n",
       "70928              1985.0          Male                      No  \n",
       "146135             1982.0          Male                      No  \n",
       "182006             1985.0          Male                      No  \n",
       "15391              1979.0          Male                      No  \n",
       "170686             1985.0          Male                      No  \n",
       "107379                NaN           NaN                      No  \n",
       "108744             1989.0          Male                      No  "
      ]
     },
     "execution_count": 23,
     "metadata": {},
     "output_type": "execute_result"
    }
   ],
   "source": [
    "# A randon view of the dataset\n",
    "\n",
    "gobike.sample(20)"
   ]
  },
  {
   "cell_type": "markdown",
   "id": "2333306f",
   "metadata": {},
   "source": [
    "From random visual assessment, walk-in customers also have records of their birth year and gender in the dataset.\n",
    "\n",
    "Are individual records maintained for each bike?"
   ]
  },
  {
   "cell_type": "code",
   "execution_count": 24,
   "id": "d155fe22",
   "metadata": {},
   "outputs": [
    {
     "data": {
      "text/plain": [
       "178766"
      ]
     },
     "execution_count": 24,
     "metadata": {},
     "output_type": "execute_result"
    }
   ],
   "source": [
    "gobike.bike_id.duplicated().sum()"
   ]
  },
  {
   "cell_type": "markdown",
   "id": "9da64061",
   "metadata": {},
   "source": [
    "Yes, they are.\n",
    "## Accessing  Issues\n",
    "\n",
    "> 1. Wrong Data type for start and end time columns\n",
    "2. Wrong data types for gender, bike share and user type colums.  \n",
    "4. Trip duration to minutes\n",
    "5. Irrelevant features with the station latitude and longitudes\n",
    "6. Null values in start and end station IDs\n",
    "7. Null values in the member birth year and member gender\n",
    "\n",
    "\n",
    "\n",
    "## Cleaning"
   ]
  },
  {
   "cell_type": "code",
   "execution_count": 7,
   "id": "3bba8691",
   "metadata": {},
   "outputs": [],
   "source": [
    "# Make copies of original data\n",
    "\n",
    "gobike_copy = gobike.copy()"
   ]
  },
  {
   "cell_type": "markdown",
   "id": "9799bdac",
   "metadata": {},
   "source": [
    "Here, I will address the identified issues using the repetitive four-step approach:\n",
    "\n",
    "Issue > Define > Code > Test \n",
    "\n",
    "### Issue #1:\n",
    "\n",
    "Wrong Data type for start and end time columns\n",
    "\n",
    "##### Define\n",
    "Convert the start and end time columns to datetime\n",
    "\n",
    "##### Code"
   ]
  },
  {
   "cell_type": "code",
   "execution_count": 8,
   "id": "0d15367e",
   "metadata": {},
   "outputs": [],
   "source": [
    "gobike_copy.start_time = pd.to_datetime(gobike_copy.start_time)"
   ]
  },
  {
   "cell_type": "code",
   "execution_count": 9,
   "id": "1809d32b",
   "metadata": {},
   "outputs": [],
   "source": [
    "gobike_copy.end_time = pd.to_datetime(gobike_copy.end_time)"
   ]
  },
  {
   "cell_type": "markdown",
   "id": "c9899b25",
   "metadata": {},
   "source": [
    "##### Test"
   ]
  },
  {
   "cell_type": "code",
   "execution_count": 27,
   "id": "4006a594",
   "metadata": {},
   "outputs": [
    {
     "name": "stdout",
     "output_type": "stream",
     "text": [
      "<class 'pandas.core.frame.DataFrame'>\n",
      "RangeIndex: 183412 entries, 0 to 183411\n",
      "Data columns (total 16 columns):\n",
      " #   Column                   Non-Null Count   Dtype         \n",
      "---  ------                   --------------   -----         \n",
      " 0   duration_sec             183412 non-null  int64         \n",
      " 1   start_time               183412 non-null  datetime64[ns]\n",
      " 2   end_time                 183412 non-null  datetime64[ns]\n",
      " 3   start_station_id         183215 non-null  float64       \n",
      " 4   start_station_name       183215 non-null  object        \n",
      " 5   start_station_latitude   183412 non-null  float64       \n",
      " 6   start_station_longitude  183412 non-null  float64       \n",
      " 7   end_station_id           183215 non-null  float64       \n",
      " 8   end_station_name         183215 non-null  object        \n",
      " 9   end_station_latitude     183412 non-null  float64       \n",
      " 10  end_station_longitude    183412 non-null  float64       \n",
      " 11  bike_id                  183412 non-null  int64         \n",
      " 12  user_type                183412 non-null  object        \n",
      " 13  member_birth_year        175147 non-null  float64       \n",
      " 14  member_gender            175147 non-null  object        \n",
      " 15  bike_share_for_all_trip  183412 non-null  object        \n",
      "dtypes: datetime64[ns](2), float64(7), int64(2), object(5)\n",
      "memory usage: 22.4+ MB\n"
     ]
    }
   ],
   "source": [
    "gobike_copy.info()"
   ]
  },
  {
   "cell_type": "markdown",
   "id": "d6f936fa",
   "metadata": {},
   "source": [
    "### Issue #2:\n",
    "\n",
    "Wrong Data types for gender, bike share and user type columns\n",
    "\n",
    "##### Define\n",
    "Convert the gender bike share and user type columns to categorical data types\n",
    "\n",
    "##### Code"
   ]
  },
  {
   "cell_type": "code",
   "execution_count": 10,
   "id": "1a5c04f7",
   "metadata": {},
   "outputs": [],
   "source": [
    "# converting to ordered categorical types\n",
    "\n",
    "category_dict = {'user_type': ['Subscriber', 'Customer'], \n",
    "                 'member_gender': ['Male', 'Female'], \n",
    "                 'bike_share_for_all_trip': ['Yes', 'No']}\n",
    "\n",
    "for var in category_dict: \n",
    "    categorized_var = pd.api.types.CategoricalDtype(ordered = True,\n",
    "                                                    categories = category_dict[var])\n",
    "    gobike_copy[var] = gobike_copy[var].astype(categorized_var)"
   ]
  },
  {
   "cell_type": "markdown",
   "id": "414522b5",
   "metadata": {},
   "source": [
    "##### Test"
   ]
  },
  {
   "cell_type": "code",
   "execution_count": 29,
   "id": "1eb46b59",
   "metadata": {},
   "outputs": [
    {
     "data": {
      "text/plain": [
       "duration_sec                        int64\n",
       "start_time                 datetime64[ns]\n",
       "end_time                   datetime64[ns]\n",
       "start_station_id                  float64\n",
       "start_station_name                 object\n",
       "start_station_latitude            float64\n",
       "start_station_longitude           float64\n",
       "end_station_id                    float64\n",
       "end_station_name                   object\n",
       "end_station_latitude              float64\n",
       "end_station_longitude             float64\n",
       "bike_id                             int64\n",
       "user_type                        category\n",
       "member_birth_year                 float64\n",
       "member_gender                    category\n",
       "bike_share_for_all_trip          category\n",
       "dtype: object"
      ]
     },
     "execution_count": 29,
     "metadata": {},
     "output_type": "execute_result"
    }
   ],
   "source": [
    "gobike_copy.dtypes"
   ]
  },
  {
   "cell_type": "markdown",
   "id": "76218d6b",
   "metadata": {},
   "source": [
    "### Issue #7:\n",
    "\n",
    "Null values in start and end stations\n",
    "\n",
    "##### Define\n",
    "Drop. \n",
    "\n",
    "##### Code"
   ]
  },
  {
   "cell_type": "code",
   "execution_count": 11,
   "id": "5f3e1108",
   "metadata": {},
   "outputs": [],
   "source": [
    "# since the columns with null data here are same, all four clomns do not need to be droped individually\n",
    "\n",
    "gobike_copy.drop(index=gobike[gobike.end_station_id.isna()].index, inplace=True)"
   ]
  },
  {
   "cell_type": "markdown",
   "id": "07060cc9",
   "metadata": {},
   "source": [
    "##### Test"
   ]
  },
  {
   "cell_type": "code",
   "execution_count": 12,
   "id": "9c0ca505",
   "metadata": {},
   "outputs": [
    {
     "data": {
      "text/html": [
       "<div>\n",
       "<style scoped>\n",
       "    .dataframe tbody tr th:only-of-type {\n",
       "        vertical-align: middle;\n",
       "    }\n",
       "\n",
       "    .dataframe tbody tr th {\n",
       "        vertical-align: top;\n",
       "    }\n",
       "\n",
       "    .dataframe thead th {\n",
       "        text-align: right;\n",
       "    }\n",
       "</style>\n",
       "<table border=\"1\" class=\"dataframe\">\n",
       "  <thead>\n",
       "    <tr style=\"text-align: right;\">\n",
       "      <th></th>\n",
       "      <th>duration_sec</th>\n",
       "      <th>start_time</th>\n",
       "      <th>end_time</th>\n",
       "      <th>start_station_id</th>\n",
       "      <th>start_station_name</th>\n",
       "      <th>start_station_latitude</th>\n",
       "      <th>start_station_longitude</th>\n",
       "      <th>end_station_id</th>\n",
       "      <th>end_station_name</th>\n",
       "      <th>end_station_latitude</th>\n",
       "      <th>end_station_longitude</th>\n",
       "      <th>bike_id</th>\n",
       "      <th>user_type</th>\n",
       "      <th>member_birth_year</th>\n",
       "      <th>member_gender</th>\n",
       "      <th>bike_share_for_all_trip</th>\n",
       "    </tr>\n",
       "  </thead>\n",
       "  <tbody>\n",
       "  </tbody>\n",
       "</table>\n",
       "</div>"
      ],
      "text/plain": [
       "Empty DataFrame\n",
       "Columns: [duration_sec, start_time, end_time, start_station_id, start_station_name, start_station_latitude, start_station_longitude, end_station_id, end_station_name, end_station_latitude, end_station_longitude, bike_id, user_type, member_birth_year, member_gender, bike_share_for_all_trip]\n",
       "Index: []"
      ]
     },
     "execution_count": 12,
     "metadata": {},
     "output_type": "execute_result"
    }
   ],
   "source": [
    "gobike_copy[gobike_copy.end_station_id.isna()]"
   ]
  },
  {
   "cell_type": "markdown",
   "id": "66e0bdc1",
   "metadata": {},
   "source": [
    "### Issue #3\n",
    "\n",
    "Null data in the member gender and birth year columns\n",
    "\n",
    "##### Define\n",
    " Drop \n",
    "\n",
    "##### Codem"
   ]
  },
  {
   "cell_type": "code",
   "execution_count": 13,
   "id": "d4f2523a",
   "metadata": {},
   "outputs": [],
   "source": [
    "gobike_copy.drop(index=gobike_copy[gobike_copy.member_gender.isna()].index, inplace=True)\n",
    "gobike_copy.drop(index=gobike_copy[gobike_copy.member_birth_year.isna()].index, inplace=True)"
   ]
  },
  {
   "cell_type": "markdown",
   "id": "45951a06",
   "metadata": {},
   "source": [
    "##### Test"
   ]
  },
  {
   "cell_type": "code",
   "execution_count": 14,
   "id": "f0f43fbc",
   "metadata": {},
   "outputs": [
    {
     "data": {
      "text/plain": [
       "member_gender        0\n",
       "member_birth_year    0\n",
       "dtype: int64"
      ]
     },
     "execution_count": 14,
     "metadata": {},
     "output_type": "execute_result"
    }
   ],
   "source": [
    "gobike_copy[['member_gender', 'member_birth_year']].isna().sum()"
   ]
  },
  {
   "cell_type": "markdown",
   "id": "d71c381d",
   "metadata": {},
   "source": [
    "### Issue #4:\n",
    "\n",
    "Wrong Data type for member birth year column\n",
    "\n",
    "##### Define\n",
    "Convert the birth year coumn to integer\n",
    "\n",
    "##### Code"
   ]
  },
  {
   "cell_type": "code",
   "execution_count": 15,
   "id": "8f95b510",
   "metadata": {},
   "outputs": [],
   "source": [
    "gobike_copy['member_birth_year'] = gobike_copy['member_birth_year'].astype(int)"
   ]
  },
  {
   "cell_type": "markdown",
   "id": "397c1a9b",
   "metadata": {},
   "source": [
    "##### Test"
   ]
  },
  {
   "cell_type": "code",
   "execution_count": 16,
   "id": "d02ccfcb",
   "metadata": {},
   "outputs": [
    {
     "data": {
      "text/plain": [
       "duration_sec                        int64\n",
       "start_time                 datetime64[ns]\n",
       "end_time                   datetime64[ns]\n",
       "start_station_id                  float64\n",
       "start_station_name                 object\n",
       "start_station_latitude            float64\n",
       "start_station_longitude           float64\n",
       "end_station_id                    float64\n",
       "end_station_name                   object\n",
       "end_station_latitude              float64\n",
       "end_station_longitude             float64\n",
       "bike_id                             int64\n",
       "user_type                        category\n",
       "member_birth_year                   int32\n",
       "member_gender                    category\n",
       "bike_share_for_all_trip          category\n",
       "dtype: object"
      ]
     },
     "execution_count": 16,
     "metadata": {},
     "output_type": "execute_result"
    }
   ],
   "source": [
    "gobike_copy.dtypes"
   ]
  },
  {
   "cell_type": "markdown",
   "id": "14d2c8d7",
   "metadata": {},
   "source": [
    "### Issue #6:\n",
    "Irrelevant features with the station latitude and longitudes\n",
    "\n",
    "##### Define\n",
    "Drop irrelevant features\n",
    "\n",
    "##### Code"
   ]
  },
  {
   "cell_type": "code",
   "execution_count": 17,
   "id": "8bf87140",
   "metadata": {},
   "outputs": [],
   "source": [
    "gobike_copy.drop(columns=['start_station_latitude', 'start_station_longitude', 'end_station_latitude', 'end_station_longitude'], inplace=True)"
   ]
  },
  {
   "cell_type": "markdown",
   "id": "85943263",
   "metadata": {},
   "source": [
    "##### Test"
   ]
  },
  {
   "cell_type": "code",
   "execution_count": 18,
   "id": "909f1cce",
   "metadata": {},
   "outputs": [
    {
     "data": {
      "text/plain": [
       "Index(['duration_sec', 'start_time', 'end_time', 'start_station_id',\n",
       "       'start_station_name', 'end_station_id', 'end_station_name', 'bike_id',\n",
       "       'user_type', 'member_birth_year', 'member_gender',\n",
       "       'bike_share_for_all_trip'],\n",
       "      dtype='object')"
      ]
     },
     "execution_count": 18,
     "metadata": {},
     "output_type": "execute_result"
    }
   ],
   "source": [
    "gobike_copy.columns"
   ]
  },
  {
   "cell_type": "markdown",
   "id": "0048c6aa",
   "metadata": {},
   "source": [
    "# Feature Engineering\n",
    "\n",
    "Now, lets perform some feature engineering to format a few columns.\n",
    "\n",
    "I'll create a new column for the duration, recorded in minutes and drop the original"
   ]
  },
  {
   "cell_type": "code",
   "execution_count": 19,
   "id": "b3eba26a",
   "metadata": {},
   "outputs": [],
   "source": [
    "gobike_copy['duration_min'] = gobike_copy['duration_sec']/60\n"
   ]
  },
  {
   "cell_type": "code",
   "execution_count": 20,
   "id": "aaa371f8",
   "metadata": {},
   "outputs": [],
   "source": [
    "gobike_copy.drop(columns=['duration_sec'], inplace=True)"
   ]
  },
  {
   "cell_type": "markdown",
   "id": "c0d49447",
   "metadata": {},
   "source": [
    "Lets see"
   ]
  },
  {
   "cell_type": "code",
   "execution_count": 21,
   "id": "0276fed1",
   "metadata": {},
   "outputs": [
    {
     "data": {
      "text/plain": [
       "Index(['start_time', 'end_time', 'start_station_id', 'start_station_name',\n",
       "       'end_station_id', 'end_station_name', 'bike_id', 'user_type',\n",
       "       'member_birth_year', 'member_gender', 'bike_share_for_all_trip',\n",
       "       'duration_min'],\n",
       "      dtype='object')"
      ]
     },
     "execution_count": 21,
     "metadata": {},
     "output_type": "execute_result"
    }
   ],
   "source": [
    "gobike_copy.columns"
   ]
  },
  {
   "cell_type": "markdown",
   "id": "79b3536a",
   "metadata": {},
   "source": [
    "I'll creat a column for age using the member_birth_year column. Also taking cognisance that the dataset was collected in 2019"
   ]
  },
  {
   "cell_type": "code",
   "execution_count": 22,
   "id": "fd8d45a7",
   "metadata": {},
   "outputs": [],
   "source": [
    "# Subtract the birth years from data collection year\n",
    "\n",
    "gobike_copy['member_age'] = gobike_copy.member_birth_year.apply(lambda x: 2019 - x)"
   ]
  },
  {
   "cell_type": "code",
   "execution_count": 23,
   "id": "6f52c261",
   "metadata": {},
   "outputs": [
    {
     "data": {
      "text/plain": [
       "21638     31\n",
       "157495    33\n",
       "146385    37\n",
       "Name: member_age, dtype: int64"
      ]
     },
     "execution_count": 23,
     "metadata": {},
     "output_type": "execute_result"
    }
   ],
   "source": [
    "# Let's see\n",
    "\n",
    "gobike_copy.member_age.sample(3)"
   ]
  },
  {
   "cell_type": "markdown",
   "id": "0cfa9057",
   "metadata": {},
   "source": [
    "Performing analysis with age groups might seem more efficient. Let's see how it is distributed"
   ]
  },
  {
   "cell_type": "code",
   "execution_count": 24,
   "id": "01b4ba7a",
   "metadata": {},
   "outputs": [
    {
     "data": {
      "text/plain": [
       "count    171305.000000\n",
       "mean         34.160649\n",
       "std          10.116083\n",
       "min          18.000000\n",
       "25%          27.000000\n",
       "50%          32.000000\n",
       "75%          39.000000\n",
       "max         141.000000\n",
       "Name: member_age, dtype: float64"
      ]
     },
     "execution_count": 24,
     "metadata": {},
     "output_type": "execute_result"
    }
   ],
   "source": [
    "gobike_copy.member_age.describe()"
   ]
  },
  {
   "cell_type": "markdown",
   "id": "6970a5ad",
   "metadata": {},
   "source": [
    "Minimum age is 18 and maximum is 141 y/o.\n",
    "\n",
    "The ages will be grouped from: 18 - 25\n",
    "\n",
    "With an increment of 15 years per group"
   ]
  },
  {
   "cell_type": "code",
   "execution_count": 26,
   "id": "7af7ce85",
   "metadata": {},
   "outputs": [],
   "source": [
    "# Grouping each age range\n",
    "\n",
    "bin_list = list(range(10, 100, 15))\n",
    "\n",
    "# Append the maximum\n",
    "\n",
    "bin_list.append(gobike_copy.member_age.max())\n",
    "\n",
    "# Add identifiable labels\n",
    "\n",
    "label = [f\"{str(group)}+\" for group in bin_list[:-1]]"
   ]
  },
  {
   "cell_type": "code",
   "execution_count": 27,
   "id": "3e2be5ac",
   "metadata": {},
   "outputs": [
    {
     "data": {
      "text/plain": [
       "([10, 25, 40, 55, 70, 85, 141], ['10+', '25+', '40+', '55+', '70+', '85+'])"
      ]
     },
     "execution_count": 27,
     "metadata": {},
     "output_type": "execute_result"
    }
   ],
   "source": [
    "# Let's see\n",
    "\n",
    "bin_list, label"
   ]
  },
  {
   "cell_type": "code",
   "execution_count": 28,
   "id": "f8f4e9ca",
   "metadata": {},
   "outputs": [],
   "source": [
    "# Set the categories using the bins\n",
    "\n",
    "gobike_copy[\"age_groups\"] = pd.cut(gobike_copy.member_age, bins=bin_list, labels=label)"
   ]
  },
  {
   "cell_type": "code",
   "execution_count": null,
   "id": "aa69df6f",
   "metadata": {},
   "outputs": [],
   "source": []
  },
  {
   "cell_type": "code",
   "execution_count": 29,
   "id": "de26f504",
   "metadata": {},
   "outputs": [],
   "source": [
    "# Drop birth year column\n",
    "\n",
    "gobike_copy.drop(columns=['member_birth_year'], inplace=True)"
   ]
  },
  {
   "cell_type": "code",
   "execution_count": 30,
   "id": "582ddd28",
   "metadata": {},
   "outputs": [
    {
     "data": {
      "text/plain": [
       "Index(['start_time', 'end_time', 'start_station_id', 'start_station_name',\n",
       "       'end_station_id', 'end_station_name', 'bike_id', 'user_type',\n",
       "       'member_gender', 'bike_share_for_all_trip', 'duration_min',\n",
       "       'member_age', 'age_groups'],\n",
       "      dtype='object')"
      ]
     },
     "execution_count": 30,
     "metadata": {},
     "output_type": "execute_result"
    }
   ],
   "source": [
    "gobike_copy.columns"
   ]
  },
  {
   "cell_type": "code",
   "execution_count": 31,
   "id": "e49aadc9",
   "metadata": {},
   "outputs": [
    {
     "data": {
      "text/plain": [
       "(171305, 13)"
      ]
     },
     "execution_count": 31,
     "metadata": {},
     "output_type": "execute_result"
    }
   ],
   "source": [
    "gobike_copy.shape"
   ]
  },
  {
   "cell_type": "code",
   "execution_count": 32,
   "id": "c219edc4",
   "metadata": {
    "scrolled": true
   },
   "outputs": [
    {
     "data": {
      "text/plain": [
       "start_time                 datetime64[ns]\n",
       "end_time                   datetime64[ns]\n",
       "start_station_id                  float64\n",
       "start_station_name                 object\n",
       "end_station_id                    float64\n",
       "end_station_name                   object\n",
       "bike_id                             int64\n",
       "user_type                        category\n",
       "member_gender                    category\n",
       "bike_share_for_all_trip          category\n",
       "duration_min                      float64\n",
       "member_age                          int64\n",
       "age_groups                       category\n",
       "dtype: object"
      ]
     },
     "execution_count": 32,
     "metadata": {},
     "output_type": "execute_result"
    }
   ],
   "source": [
    "gobike_copy.dtypes"
   ]
  },
  {
   "cell_type": "markdown",
   "id": "277a20a5",
   "metadata": {},
   "source": [
    "#### The structure of the dataset?\n",
    "\n",
    "> After the cleaning process, there are 171,305 records of bike trips in the dataset with 12 features showing each trip's duration, bike id, user type, member age, member gender, bike share as well as start and end station names and ID.\n",
    "\n",
    "\n",
    "\n",
    "#### Main feature of interest\n",
    "\n",
    "> I'm most interested in figuring out which features in the dataset affect the trip durations of users. What role the ages and gender of users have in their trip durations. \n",
    "\n",
    "\n",
    "> I expect the ages and user type to have the most effect on the duration. this is because younger subscribing users are more likely to have longer planned trips. \n",
    "\n",
    "\n",
    "# Exploration\n",
    "\n",
    "I'll perform Univariate, Bivariate and multivariate explorations to understand the distribution of my features of interest and their relationship with other features. \n",
    "\n",
    "Using functions will ease the visualizations. I'll create a function to set the basic features of the visualizations in the following sub-sections. "
   ]
  },
  {
   "cell_type": "code",
   "execution_count": 33,
   "id": "c5621e71",
   "metadata": {},
   "outputs": [],
   "source": [
    "# set the base color to default\n",
    "\n",
    "color = sb.color_palette()[0]"
   ]
  },
  {
   "cell_type": "code",
   "execution_count": 34,
   "id": "5092bd6a",
   "metadata": {},
   "outputs": [],
   "source": [
    "# set visualiztion features\n",
    "\n",
    "def vis_features(title: str, xlabel: str=\" \", ylabel: str=\" \", x_double: bool=False, y_double: bool=False):\n",
    "    plt.figure(figsize=(24 if x_double else 12, 16 if y_double else 8))\n",
    "    plt.title(title, fontsize=20, fontweight='bold')\n",
    "    plt.xlabel(xlabel, fontsize=16)\n",
    "    plt.ylabel(ylabel, fontsize=16)"
   ]
  },
  {
   "cell_type": "markdown",
   "id": "d1ea9d75",
   "metadata": {},
   "source": [
    "## Univariate Exploration\n",
    "\n",
    "> In this section, I will investigate distributions of individual variables using the Question-Visualization-Observation framework. \n",
    "\n",
    "Expected exploration \n",
    "\n",
    "1. Trip Duration distribution\n",
    "2. Gender distribution\n",
    "3. Age distribution\n",
    "4. User type distriution\n",
    "5. Bike share distribution\n",
    "6. Ride Traffic Hours\n",
    "7. Ride Traffic Days\n"
   ]
  },
  {
   "cell_type": "code",
   "execution_count": 35,
   "id": "f4a76a93",
   "metadata": {},
   "outputs": [
    {
     "data": {
      "text/html": [
       "<div>\n",
       "<style scoped>\n",
       "    .dataframe tbody tr th:only-of-type {\n",
       "        vertical-align: middle;\n",
       "    }\n",
       "\n",
       "    .dataframe tbody tr th {\n",
       "        vertical-align: top;\n",
       "    }\n",
       "\n",
       "    .dataframe thead th {\n",
       "        text-align: right;\n",
       "    }\n",
       "</style>\n",
       "<table border=\"1\" class=\"dataframe\">\n",
       "  <thead>\n",
       "    <tr style=\"text-align: right;\">\n",
       "      <th></th>\n",
       "      <th>start_time</th>\n",
       "      <th>end_time</th>\n",
       "      <th>start_station_id</th>\n",
       "      <th>start_station_name</th>\n",
       "      <th>end_station_id</th>\n",
       "      <th>end_station_name</th>\n",
       "      <th>bike_id</th>\n",
       "      <th>user_type</th>\n",
       "      <th>member_gender</th>\n",
       "      <th>bike_share_for_all_trip</th>\n",
       "      <th>duration_min</th>\n",
       "      <th>member_age</th>\n",
       "      <th>age_groups</th>\n",
       "    </tr>\n",
       "  </thead>\n",
       "  <tbody>\n",
       "    <tr>\n",
       "      <th>0</th>\n",
       "      <td>2019-02-28 17:32:10.145</td>\n",
       "      <td>2019-03-01 08:01:55.975</td>\n",
       "      <td>21.0</td>\n",
       "      <td>Montgomery St BART Station (Market St at 2nd St)</td>\n",
       "      <td>13.0</td>\n",
       "      <td>Commercial St at Montgomery St</td>\n",
       "      <td>4902</td>\n",
       "      <td>Customer</td>\n",
       "      <td>Male</td>\n",
       "      <td>No</td>\n",
       "      <td>869.750000</td>\n",
       "      <td>35</td>\n",
       "      <td>25+</td>\n",
       "    </tr>\n",
       "    <tr>\n",
       "      <th>2</th>\n",
       "      <td>2019-02-28 12:13:13.218</td>\n",
       "      <td>2019-03-01 05:24:08.146</td>\n",
       "      <td>86.0</td>\n",
       "      <td>Market St at Dolores St</td>\n",
       "      <td>3.0</td>\n",
       "      <td>Powell St BART Station (Market St at 4th St)</td>\n",
       "      <td>5905</td>\n",
       "      <td>Customer</td>\n",
       "      <td>Male</td>\n",
       "      <td>No</td>\n",
       "      <td>1030.900000</td>\n",
       "      <td>47</td>\n",
       "      <td>40+</td>\n",
       "    </tr>\n",
       "    <tr>\n",
       "      <th>4</th>\n",
       "      <td>2019-02-28 23:54:18.549</td>\n",
       "      <td>2019-03-01 00:20:44.074</td>\n",
       "      <td>7.0</td>\n",
       "      <td>Frank H Ogawa Plaza</td>\n",
       "      <td>222.0</td>\n",
       "      <td>10th Ave at E 15th St</td>\n",
       "      <td>4898</td>\n",
       "      <td>Subscriber</td>\n",
       "      <td>Male</td>\n",
       "      <td>Yes</td>\n",
       "      <td>26.416667</td>\n",
       "      <td>45</td>\n",
       "      <td>40+</td>\n",
       "    </tr>\n",
       "  </tbody>\n",
       "</table>\n",
       "</div>"
      ],
      "text/plain": [
       "               start_time                end_time  start_station_id  \\\n",
       "0 2019-02-28 17:32:10.145 2019-03-01 08:01:55.975              21.0   \n",
       "2 2019-02-28 12:13:13.218 2019-03-01 05:24:08.146              86.0   \n",
       "4 2019-02-28 23:54:18.549 2019-03-01 00:20:44.074               7.0   \n",
       "\n",
       "                                 start_station_name  end_station_id  \\\n",
       "0  Montgomery St BART Station (Market St at 2nd St)            13.0   \n",
       "2                           Market St at Dolores St             3.0   \n",
       "4                               Frank H Ogawa Plaza           222.0   \n",
       "\n",
       "                               end_station_name  bike_id   user_type  \\\n",
       "0                Commercial St at Montgomery St     4902    Customer   \n",
       "2  Powell St BART Station (Market St at 4th St)     5905    Customer   \n",
       "4                         10th Ave at E 15th St     4898  Subscriber   \n",
       "\n",
       "  member_gender bike_share_for_all_trip  duration_min  member_age age_groups  \n",
       "0          Male                      No    869.750000          35        25+  \n",
       "2          Male                      No   1030.900000          47        40+  \n",
       "4          Male                     Yes     26.416667          45        40+  "
      ]
     },
     "execution_count": 35,
     "metadata": {},
     "output_type": "execute_result"
    }
   ],
   "source": [
    "gobike_copy.head(3)"
   ]
  },
  {
   "cell_type": "markdown",
   "id": "7b636d11",
   "metadata": {},
   "source": [
    "#####  1. Trip Duration\n",
    "\n",
    "I'll begin my exploration from one of the most important columns, Duration.\n",
    "How long does an average bike trip last?"
   ]
  },
  {
   "cell_type": "code",
   "execution_count": 48,
   "id": "690b1353",
   "metadata": {},
   "outputs": [
    {
     "name": "stderr",
     "output_type": "stream",
     "text": [
      "C:\\Users\\USER\\anaconda3\\lib\\site-packages\\seaborn\\distributions.py:2619: FutureWarning: `distplot` is a deprecated function and will be removed in a future version. Please adapt your code to use either `displot` (a figure-level function with similar flexibility) or `histplot` (an axes-level function for histograms).\n",
      "  warnings.warn(msg, FutureWarning)\n"
     ]
    },
    {
     "data": {
      "image/png": "[encoded data removed]",
      "text/plain": [
       "<Figure size 864x576 with 1 Axes>"
      ]
     },
     "metadata": {
      "needs_background": "light"
     },
     "output_type": "display_data"
    }
   ],
   "source": [
    "vis_features(\"Trip Duration (Minutes)\", \"Duration\", \"Ride Count\")\n",
    "sb.distplot(gobike_copy.duration_min, kde=False, bins=100);"
   ]
  },
  {
   "cell_type": "code",
   "execution_count": 49,
   "id": "2890e4a9",
   "metadata": {},
   "outputs": [
    {
     "data": {
      "text/plain": [
       "1409.1333333333334"
      ]
     },
     "execution_count": 49,
     "metadata": {},
     "output_type": "execute_result"
    }
   ],
   "source": [
    "gobike_copy.duration_min.max()"
   ]
  },
  {
   "cell_type": "markdown",
   "id": "e2f9fe35",
   "metadata": {},
   "source": [
    "While the maximum value is above 1.4k minutes, the bulk of the trips had durations less than 200.\n",
    ".\n",
    "\n",
    "This wide margin between the minimum and maximum duration makes it difficult to get a useful insight. \n"
   ]
  },
  {
   "cell_type": "code",
   "execution_count": 50,
   "id": "aee5bd15",
   "metadata": {},
   "outputs": [
    {
     "data": {
      "text/plain": [
       "(0.0, 200.0)"
      ]
     },
     "execution_count": 50,
     "metadata": {},
     "output_type": "execute_result"
    },
    {
     "data": {
      "image/png": "[encoded data removed]",
      "text/plain": [
       "<Figure size 864x576 with 1 Axes>"
      ]
     },
     "metadata": {
      "needs_background": "light"
     },
     "output_type": "display_data"
    }
   ],
   "source": [
    "# I'll apply a limit for a better view.\n",
    "\n",
    "vis_features(\"Trip Duration (Minutes)\", \"Duration\", \"Ride Count\")\n",
    "sb.distplot(gobike_copy.duration_min, kde=False, bins=range(101));\n",
    "plt.xlim((0, 200))\n"
   ]
  },
  {
   "cell_type": "code",
   "execution_count": 51,
   "id": "a5637928",
   "metadata": {},
   "outputs": [
    {
     "data": {
      "text/plain": [
       "(0.0, 50.0)"
      ]
     },
     "execution_count": 51,
     "metadata": {},
     "output_type": "execute_result"
    },
    {
     "data": {
      "image/png": "[encoded data removed]",
      "text/plain": [
       "<Figure size 864x576 with 1 Axes>"
      ]
     },
     "metadata": {
      "needs_background": "light"
     },
     "output_type": "display_data"
    }
   ],
   "source": [
    "# I'll get it own to 50\n",
    "\n",
    "vis_features(\"Trip Duration (Minutes)\", \"Duration\", \"Ride Count\")\n",
    "sb.distplot(gobike_copy.duration_min, kde=False, bins=range(101))\n",
    "plt.xlim((0, 50))"
   ]
  },
  {
   "cell_type": "markdown",
   "id": "c67f2ffc",
   "metadata": {},
   "source": [
    "From the plots above, a ride is more likely to last for 4 - 15 minutes\n",
    "##### 2. Gender Distribution\n",
    "\n",
    "Which gender uses the Ford GoBike service more?"
   ]
  },
  {
   "cell_type": "code",
   "execution_count": 52,
   "id": "97f486c3",
   "metadata": {},
   "outputs": [
    {
     "data": {
      "image/png": "[encoded data removed]",
      "text/plain": [
       "<Figure size 864x576 with 1 Axes>"
      ]
     },
     "metadata": {},
     "output_type": "display_data"
    }
   ],
   "source": [
    "# Using a Donut Plot\n",
    "\n",
    "gender_counts = gobike_copy['member_gender'].value_counts()\n",
    "\n",
    "vis_features(\"Gender Distribution\")\n",
    "plt.pie(gender_counts, labels =  gender_counts.values, startangle = 90, \n",
    "        counterclock = False, wedgeprops = {'width' : 0.5});\n",
    "\n",
    "plt.legend(gender_counts.index)\n",
    "plt.axis('square');"
   ]
  },
  {
   "cell_type": "markdown",
   "id": "96424506",
   "metadata": {},
   "source": [
    "Males use bikes nearly three times mre than females\n",
    ".\n",
    ".\n",
    "\n",
    "##### 3. Age Distribution\n",
    "\n",
    "Let's have a loook on the more popular age group.\n",
    "\n",
    "Which age group has the most users?"
   ]
  },
  {
   "cell_type": "code",
   "execution_count": 53,
   "id": "0f716311",
   "metadata": {},
   "outputs": [
    {
     "data": {
      "image/png": "[encoded data removed]",
      "text/plain": [
       "<Figure size 864x576 with 1 Axes>"
      ]
     },
     "metadata": {
      "needs_background": "light"
     },
     "output_type": "display_data"
    }
   ],
   "source": [
    "\n",
    "vis_features(\"Age Distribution\", \"Age\", \"Count\")\n",
    "sb.distplot(gobike_copy.member_age, kde=False);"
   ]
  },
  {
   "cell_type": "markdown",
   "id": "7ed7acdc",
   "metadata": {},
   "source": [
    "The bulk of the customers are between the ages of 25 - 40 years\n",
    ".\n",
    ".\n",
    "\n",
    "#### 4. User Type Distribution\n",
    "\n",
    "How do subscribers compare with walkin customers?"
   ]
  },
  {
   "cell_type": "code",
   "execution_count": 55,
   "id": "035b08c4",
   "metadata": {},
   "outputs": [
    {
     "data": {
      "image/png": "[encoded data removed]",
      "text/plain": [
       "<Figure size 864x576 with 1 Axes>"
      ]
     },
     "metadata": {},
     "output_type": "display_data"
    }
   ],
   "source": [
    "# Using a Donut Plot\n",
    "\n",
    "user_counts = gobike_copy['user_type'].value_counts()\n",
    "\n",
    "vis_features(\" Subscribers vs Walk-In Customers\")\n",
    "plt.pie(user_counts, labels =  user_counts.values, startangle = 90, \n",
    "        counterclock = False, wedgeprops = {'width' : 0.5});\n",
    "\n",
    "plt.legend(user_counts.index)\n",
    "plt.axis('square');"
   ]
  },
  {
   "cell_type": "markdown",
   "id": "bb770e5b",
   "metadata": {},
   "source": [
    "Interstingly, the overwhelming majority of users are subscribers. That's great for user satisfaction.\n",
    "\n",
    "Now let's see how the bike trip data\n",
    "\n",
    "#### 5. Bike Trip\n",
    "\n",
    "let's have a look at how customers complete round trips vs one way trips\n",
    "\n",
    "Which trip type is preferred?"
   ]
  },
  {
   "cell_type": "code",
   "execution_count": 58,
   "id": "fd1558dd",
   "metadata": {},
   "outputs": [
    {
     "data": {
      "image/png": "[encoded data removed]",
      "text/plain": [
       "<Figure size 864x576 with 1 Axes>"
      ]
     },
     "metadata": {},
     "output_type": "display_data"
    }
   ],
   "source": [
    "# Using a Donut Plot\n",
    "\n",
    "bike_trip_counts = gobike_copy['bike_share_for_all_trip'].value_counts()\n",
    "\n",
    "vis_features(\"Are Rides One Way Trips?\")\n",
    "plt.pie(bike_trip_counts, labels =  bike_trip_counts.values, startangle = 90, \n",
    "        counterclock = False, wedgeprops = {'width' : 0.5});\n",
    "\n",
    "plt.legend(bike_trip_counts.index)\n",
    "plt.axis('square');"
   ]
  },
  {
   "cell_type": "markdown",
   "id": "85d610ca",
   "metadata": {},
   "source": [
    "Like the walkin customers, only 10% of users complete round trips. \n",
    "\n",
    "#### 5. Ride Traffic Hours\n",
    "\n",
    "Let's see the hours with the most bike usage. Usint the start time data.\n",
    "What time periods enjoy the most user traffic?\n"
   ]
  },
  {
   "cell_type": "code",
   "execution_count": 57,
   "id": "c2bd6947",
   "metadata": {},
   "outputs": [],
   "source": [
    "# Group each ride by the hour\n",
    "\n",
    "per_hour_count = gobike_copy.groupby(gobike_copy.start_time.dt.hour).duration_min.count()\n",
    "per_hour_count = per_hour_count.rename_axis('hour').reset_index(name='count')\n",
    "AM_PM = ['00', '1AM', '2AM', '3AM', '4AM', '5AM', '6AM', '7AM', '8AM', '9AM', '10AM', '11AM', '12AM', '1PM', '2PM', '3PM', '4PM', '5PM', '6PM', '7PM', '8PM', '9PM', '10PM', '11PM']"
   ]
  },
  {
   "cell_type": "code",
   "execution_count": 61,
   "id": "8da609c7",
   "metadata": {},
   "outputs": [
    {
     "data": {
      "text/plain": [
       "Text(0, 0.5, 'Count')"
      ]
     },
     "execution_count": 61,
     "metadata": {},
     "output_type": "execute_result"
    },
    {
     "data": {
      "image/png": "[encoded data removed]",
      "text/plain": [
       "<Figure size 864x576 with 1 Axes>"
      ]
     },
     "metadata": {
      "needs_background": "light"
     },
     "output_type": "display_data"
    }
   ],
   "source": [
    "# Let's use a Bar Plot to show the distribution per hour\n",
    "\n",
    "vis_features(\"Ride Traffic Hours\")\n",
    "plot = sb.barplot(data=per_hour_count, x='hour', y='count', color=color)\n",
    "plot.set_xticks(ticks=per_hour_count.index, labels=AM_PM, rotation=15)\n",
    "plot.set_xlabel(\"24 Hour Day\")\n",
    "plot.set_ylabel(\"Count\")\n"
   ]
  },
  {
   "cell_type": "markdown",
   "id": "3673184d",
   "metadata": {},
   "source": [
    "It is unsurprising that the peak traffic hours, 8AM and 5Pm, are the natural daily rush hours.\n",
    "Now, lets see the weekly traffic trend\n",
    "\n",
    "#### 6. Weekly Traffic Trend\n",
    "How many trips in a week?"
   ]
  },
  {
   "cell_type": "code",
   "execution_count": 63,
   "id": "7b20f464",
   "metadata": {},
   "outputs": [],
   "source": [
    "# Group rides per week \n",
    "\n",
    "per_week_count = gobike_copy.groupby(gobike_copy.start_time.dt.weekday).duration_min.count()\n",
    "per_week_count = per_week_count.rename_axis('weekday').reset_index(name='count')\n",
    "days = ['Mon', 'Tues', 'Wed', 'Thurs', 'Fri', 'Sat', 'Sun']"
   ]
  },
  {
   "cell_type": "code",
   "execution_count": 65,
   "id": "3ffbc582",
   "metadata": {},
   "outputs": [
    {
     "data": {
      "text/plain": [
       "Text(0, 0.5, 'Count')"
      ]
     },
     "execution_count": 65,
     "metadata": {},
     "output_type": "execute_result"
    },
    {
     "data": {
      "image/png": "[encoded data removed]",
      "text/plain": [
       "<Figure size 864x576 with 1 Axes>"
      ]
     },
     "metadata": {
      "needs_background": "light"
     },
     "output_type": "display_data"
    }
   ],
   "source": [
    "# Let's use a Bar Plot to show the distribution per day\n",
    "\n",
    "vis_features(\"Ride Traffic Days\")\n",
    "plot = sb.barplot(data=per_week_count, x='weekday', y='count', color=color)\n",
    "plot.set_xticks(ticks=per_week_count.index, labels=days, rotation=15)\n",
    "plot.set_xlabel(\"WeekDays\")\n",
    "plot.set_ylabel(\"Count\")\n"
   ]
  },
  {
   "cell_type": "markdown",
   "id": "98260d32",
   "metadata": {},
   "source": [
    "Mid-Week Days experience 30 - 50% more user traffic than weekends. This isn't suprising considering the high traffic hours are work day rush hours\n",
    "\n",
    "### In Summary\n",
    "\n",
    "> Only minor data cleaning was required\n",
    "1. The removal of null data. Clearing these up in a couple of columns ultimately cleared up the rest. \n",
    "2. For ease of analysis it was neccessary to convert the data types of some colums to cartegorical, integers or datetime ject as required. \n",
    "\n",
    ">Little feaure engineering was also needed to:\n",
    "- create a duration column in minutes\n",
    "- create an age column from th birth years\n",
    "\n",
    "\n",
    "## Bivariate Exploration\n",
    "\n",
    "> In this section, investigate relationships between pairs of variables in the \n",
    "dataset. \n",
    "\n",
    "Expected Exploration\n",
    "1. User type Vs Trip duration\n",
    "2. Age and trip duration\n",
    "2. Age and User type\n",
    "3. Gender Vs User type\n",
    "\n"
   ]
  },
  {
   "cell_type": "code",
   "execution_count": 66,
   "id": "e597dc38",
   "metadata": {},
   "outputs": [
    {
     "data": {
      "text/html": [
       "<div>\n",
       "<style scoped>\n",
       "    .dataframe tbody tr th:only-of-type {\n",
       "        vertical-align: middle;\n",
       "    }\n",
       "\n",
       "    .dataframe tbody tr th {\n",
       "        vertical-align: top;\n",
       "    }\n",
       "\n",
       "    .dataframe thead th {\n",
       "        text-align: right;\n",
       "    }\n",
       "</style>\n",
       "<table border=\"1\" class=\"dataframe\">\n",
       "  <thead>\n",
       "    <tr style=\"text-align: right;\">\n",
       "      <th></th>\n",
       "      <th>start_time</th>\n",
       "      <th>end_time</th>\n",
       "      <th>start_station_id</th>\n",
       "      <th>start_station_name</th>\n",
       "      <th>end_station_id</th>\n",
       "      <th>end_station_name</th>\n",
       "      <th>bike_id</th>\n",
       "      <th>user_type</th>\n",
       "      <th>member_gender</th>\n",
       "      <th>bike_share_for_all_trip</th>\n",
       "      <th>duration_min</th>\n",
       "      <th>member_age</th>\n",
       "    </tr>\n",
       "  </thead>\n",
       "  <tbody>\n",
       "    <tr>\n",
       "      <th>0</th>\n",
       "      <td>2019-02-28 17:32:10.145</td>\n",
       "      <td>2019-03-01 08:01:55.975</td>\n",
       "      <td>21.0</td>\n",
       "      <td>Montgomery St BART Station (Market St at 2nd St)</td>\n",
       "      <td>13.0</td>\n",
       "      <td>Commercial St at Montgomery St</td>\n",
       "      <td>4902</td>\n",
       "      <td>Customer</td>\n",
       "      <td>Male</td>\n",
       "      <td>No</td>\n",
       "      <td>869.750000</td>\n",
       "      <td>35</td>\n",
       "    </tr>\n",
       "    <tr>\n",
       "      <th>2</th>\n",
       "      <td>2019-02-28 12:13:13.218</td>\n",
       "      <td>2019-03-01 05:24:08.146</td>\n",
       "      <td>86.0</td>\n",
       "      <td>Market St at Dolores St</td>\n",
       "      <td>3.0</td>\n",
       "      <td>Powell St BART Station (Market St at 4th St)</td>\n",
       "      <td>5905</td>\n",
       "      <td>Customer</td>\n",
       "      <td>Male</td>\n",
       "      <td>No</td>\n",
       "      <td>1030.900000</td>\n",
       "      <td>47</td>\n",
       "    </tr>\n",
       "    <tr>\n",
       "      <th>4</th>\n",
       "      <td>2019-02-28 23:54:18.549</td>\n",
       "      <td>2019-03-01 00:20:44.074</td>\n",
       "      <td>7.0</td>\n",
       "      <td>Frank H Ogawa Plaza</td>\n",
       "      <td>222.0</td>\n",
       "      <td>10th Ave at E 15th St</td>\n",
       "      <td>4898</td>\n",
       "      <td>Subscriber</td>\n",
       "      <td>Male</td>\n",
       "      <td>Yes</td>\n",
       "      <td>26.416667</td>\n",
       "      <td>45</td>\n",
       "    </tr>\n",
       "  </tbody>\n",
       "</table>\n",
       "</div>"
      ],
      "text/plain": [
       "               start_time                end_time  start_station_id  \\\n",
       "0 2019-02-28 17:32:10.145 2019-03-01 08:01:55.975              21.0   \n",
       "2 2019-02-28 12:13:13.218 2019-03-01 05:24:08.146              86.0   \n",
       "4 2019-02-28 23:54:18.549 2019-03-01 00:20:44.074               7.0   \n",
       "\n",
       "                                 start_station_name  end_station_id  \\\n",
       "0  Montgomery St BART Station (Market St at 2nd St)            13.0   \n",
       "2                           Market St at Dolores St             3.0   \n",
       "4                               Frank H Ogawa Plaza           222.0   \n",
       "\n",
       "                               end_station_name  bike_id   user_type  \\\n",
       "0                Commercial St at Montgomery St     4902    Customer   \n",
       "2  Powell St BART Station (Market St at 4th St)     5905    Customer   \n",
       "4                         10th Ave at E 15th St     4898  Subscriber   \n",
       "\n",
       "  member_gender bike_share_for_all_trip  duration_min  member_age  \n",
       "0          Male                      No    869.750000          35  \n",
       "2          Male                      No   1030.900000          47  \n",
       "4          Male                     Yes     26.416667          45  "
      ]
     },
     "execution_count": 66,
     "metadata": {},
     "output_type": "execute_result"
    }
   ],
   "source": [
    "gobike_copy.head(3)"
   ]
  },
  {
   "cell_type": "markdown",
   "id": "fe700dc7",
   "metadata": {},
   "source": [
    "#### 1. User Type Vs Trip Duration\n",
    "\n",
    "how long do subscribers spend on trips vs walk-ins?\n"
   ]
  },
  {
   "cell_type": "code",
   "execution_count": 68,
   "id": "f5dae30f",
   "metadata": {},
   "outputs": [
    {
     "data": {
      "text/plain": [
       "(0.0, 50.0)"
      ]
     },
     "execution_count": 68,
     "metadata": {},
     "output_type": "execute_result"
    },
    {
     "data": {
      "image/png": "[encoded data removed]",
      "text/plain": [
       "<Figure size 864x576 with 1 Axes>"
      ]
     },
     "metadata": {
      "needs_background": "light"
     },
     "output_type": "display_data"
    }
   ],
   "source": [
    "vis_features(\"Trip Duration - Subscriber Vs Walk-In\")\n",
    "sb.histplot(data=gobike_copy, x='duration_min', hue=\"user_type\", bins=range(101))\n",
    "plt.xlim((0, 50))"
   ]
  },
  {
   "cell_type": "markdown",
   "id": "837e320b",
   "metadata": {},
   "source": [
    "With both user types having similar peaks withing the 4 - 15 minute ride duration, the distribution is natural.\n",
    "\n",
    "#### 2. Age Vs Trip Duration\n",
    "\n",
    "How do the age groups compare, per trip duraton?\n",
    "\n",
    "I'll use a Histogram here"
   ]
  },
  {
   "cell_type": "code",
   "execution_count": 99,
   "id": "2ddc285c",
   "metadata": {},
   "outputs": [
    {
     "data": {
      "text/plain": [
       "(0.0, 50.0)"
      ]
     },
     "execution_count": 99,
     "metadata": {},
     "output_type": "execute_result"
    },
    {
     "data": {
      "image/png": "[encoded data removed]",
      "text/plain": [
       "<Figure size 864x576 with 1 Axes>"
      ]
     },
     "metadata": {
      "needs_background": "light"
     },
     "output_type": "display_data"
    }
   ],
   "source": [
    "vis_features(\"Trip Duration - By Age Groups\")\n",
    "sb.histplot(data=gobike_copy, x='duration_min', hue=\"age_groups\", bins=range(101))\n",
    "plt.xlim((0, 50))"
   ]
  },
  {
   "cell_type": "markdown",
   "id": "e4b69094",
   "metadata": {},
   "source": [
    "From the chart, users within the ages of 25-40 and 18-25 spend the most time on trips respectively.\n",
    "\n",
    "##### 3. Age Group Vs User Type\n",
    "\n",
    "Which user type is more likely to subscribe?"
   ]
  },
  {
   "cell_type": "code",
   "execution_count": 129,
   "id": "a0564f5b",
   "metadata": {},
   "outputs": [
    {
     "data": {
      "image/png": "[encoded data removed]",
      "text/plain": [
       "<Figure size 864x576 with 1 Axes>"
      ]
     },
     "metadata": {
      "needs_background": "light"
     },
     "output_type": "display_data"
    }
   ],
   "source": [
    "# Using a Histogram\n",
    "\n",
    "vis_features(\"Age Groups - By User Types\")\n",
    "sb.histplot(data=gobike_copy, x='age_groups', hue=\"user_type\", bins=range(101));\n"
   ]
  },
  {
   "cell_type": "markdown",
   "id": "92237595",
   "metadata": {},
   "source": [
    "Nothing Unexpected here.\n",
    "\n",
    "##### 4. Gender Vs User Type\n",
    "\n",
    "Which gender is more likely to be a subscriber?"
   ]
  },
  {
   "cell_type": "code",
   "execution_count": 97,
   "id": "c5fba311",
   "metadata": {},
   "outputs": [
    {
     "data": {
      "text/plain": [
       "<AxesSubplot:title={'center':'Age Groups - By User Types'}, xlabel=' ', ylabel=' '>"
      ]
     },
     "execution_count": 97,
     "metadata": {},
     "output_type": "execute_result"
    },
    {
     "data": {
      "image/png": "[encoded data removed]",
      "text/plain": [
       "<Figure size 864x576 with 1 Axes>"
      ]
     },
     "metadata": {
      "needs_background": "light"
     },
     "output_type": "display_data"
    }
   ],
   "source": [
    "# Using a Histogram \n",
    "\n",
    "vis_features(\"Age Groups - By User Types\")\n",
    "sb.histplot(data=gobike_copy, x='user_type', hue=\"member_gender\", bins=range(101))\n"
   ]
  },
  {
   "cell_type": "markdown",
   "id": "0fd4b2cf",
   "metadata": {},
   "source": [
    "### In Sumary\n",
    "> This section was used to find the correlations between different varaibles in the dataset. \n",
    "So far, its safe to say traditional rush hours on week days are the high traffic times. \n",
    "\n",
    "# Multivariate Exploration\n",
    "\n",
    "In this section, I will comper the relationship between two or more variables. \n",
    "\n",
    "1. Age Vs Gender Vs User Type\n",
    "2. User Type Vs Gender Vs Day of the Week\n",
    "3. User Type Vs Gender Vs Hour of the day"
   ]
  },
  {
   "cell_type": "markdown",
   "id": "7f963603",
   "metadata": {},
   "source": [
    "##### 1. Age Vs Gender Vs User Type\n",
    "\n",
    "Does the age and gender influence chois of user type?"
   ]
  },
  {
   "cell_type": "code",
   "execution_count": 104,
   "id": "674a2d10",
   "metadata": {},
   "outputs": [
    {
     "data": {
      "text/plain": [
       "Text(0, 0.5, 'Age')"
      ]
     },
     "execution_count": 104,
     "metadata": {},
     "output_type": "execute_result"
    },
    {
     "data": {
      "image/png": "[encoded data removed]",
      "text/plain": [
       "<Figure size 864x576 with 1 Axes>"
      ]
     },
     "metadata": {
      "needs_background": "light"
     },
     "output_type": "display_data"
    }
   ],
   "source": [
    "vis_features(\"Age Vs Genser Vs User Type\")\n",
    "plot = sb.violinplot(data=gobike_copy, x = 'member_gender', y = 'member_age', hue = \"user_type\", split=True, inner=\"quartile\")\n",
    "plot.set_xlabel(\"Gender\")\n",
    "plot.set_ylabel(\"Age\")"
   ]
  },
  {
   "cell_type": "markdown",
   "id": "8585bf4c",
   "metadata": {},
   "source": [
    "Both Genders have identical plot patterns and interestingly, the oldest customer (140+) is a female.\n",
    "\n",
    "##### 2.  User Type Vs Gender Vs Day Of the Week\n",
    "\n",
    "How does the gender and user types affect Uer traffic per weekday?"
   ]
  },
  {
   "cell_type": "code",
   "execution_count": 120,
   "id": "1737305e",
   "metadata": {},
   "outputs": [],
   "source": [
    "# First, creat a data frame for all three variables\n",
    "\n",
    "user_gender_day = gobike_copy.groupby([gobike_copy.start_time.dt.weekday, 'member_gender', 'user_type']).size().reset_index(name='count')\n",
    "\n",
    "\n",
    "# For plot layout\n",
    "\n",
    "user_gender_day = user_gender_day.pivot(index='start_time', columns=['member_gender', 'user_type'], values ='count').dropna()\n"
   ]
  },
  {
   "cell_type": "code",
   "execution_count": 122,
   "id": "9351db77",
   "metadata": {},
   "outputs": [
    {
     "data": {
      "text/plain": [
       "Text(87.0, 0.5, 'Day of the Week')"
      ]
     },
     "execution_count": 122,
     "metadata": {},
     "output_type": "execute_result"
    },
    {
     "data": {
      "image/png": "[encoded data removed]",
      "text/plain": [
       "<Figure size 864x576 with 2 Axes>"
      ]
     },
     "metadata": {
      "needs_background": "light"
     },
     "output_type": "display_data"
    }
   ],
   "source": [
    "# The grapgh\n",
    "\n",
    "vis_features(\"User Type Vs Gender Vs Day of the Week\")\n",
    "plot = sb.heatmap(user_gender_day, annot=True, fmt='.0f', cmap='vlag')\n",
    "plot.set_yticks(ticks=per_week_count.index, labels=days, rotation=0)\n",
    "plot.set_xlabel(\"Gender User Type\")\n",
    "plot.set_ylabel(\"Day of the Week\")"
   ]
  },
  {
   "cell_type": "markdown",
   "id": "7fa7e9af",
   "metadata": {},
   "source": [
    "This heatmap double checks the previous findings. \n",
    "- Male subscribers have the most activities in midweek.\n",
    "- Thursdays and Tuesdays have the most user traffic\n",
    "\n",
    "Now lets see the correlation of the above data with the hors in the day\n",
    "##### 3. User type Vs Gender Vs Hour in the Day\n",
    "How does the gender and user type affect user traffic per hour in the day?"
   ]
  },
  {
   "cell_type": "code",
   "execution_count": 125,
   "id": "e87b9dfa",
   "metadata": {},
   "outputs": [],
   "source": [
    "# First, creat a data frame for all three variables\n",
    "\n",
    "user_gender_hour = gobike_copy.groupby([gobike_copy.start_time.dt.hour, 'member_gender', 'user_type']).size().reset_index(name='count')\n",
    "\n",
    "\n",
    "# For plot layout\n",
    "\n",
    "user_gender_hour = user_gender_hour.pivot(index='start_time', columns=['member_gender', 'user_type'], values ='count').dropna()\n"
   ]
  },
  {
   "cell_type": "code",
   "execution_count": 128,
   "id": "486fa225",
   "metadata": {},
   "outputs": [
    {
     "data": {
      "text/plain": [
       "Text(87.0, 0.5, 'Hour of the Day')"
      ]
     },
     "execution_count": 128,
     "metadata": {},
     "output_type": "execute_result"
    },
    {
     "data": {
      "image/png": "[encoded data removed]",
      "text/plain": [
       "<Figure size 864x576 with 2 Axes>"
      ]
     },
     "metadata": {
      "needs_background": "light"
     },
     "output_type": "display_data"
    }
   ],
   "source": [
    "# The grapgh\n",
    "\n",
    "vis_features(\"User Type Vs Gender Vs Hour in the Day\")\n",
    "plot = sb.heatmap(user_gender_hour, annot=True, fmt='.0f', cmap='vlag')\n",
    "plot.set_yticks(ticks=per_hour_count.index, labels=AM_PM, rotation=0)\n",
    "plot.set_xlabel(\"Gender User Type\")\n",
    "plot.set_ylabel(\"Hour of the Day\")"
   ]
  },
  {
   "cell_type": "markdown",
   "id": "fb0f1b58",
   "metadata": {},
   "source": [
    "The heatmap clearly shows how users request more trips in-and-around the rush hours of 8AM and 5PM. and of cours, male subscribers have more users.\n",
    "\n",
    "#### In Summary\n",
    "\n",
    "> The explorations in this section were mostly to confirm or dispute previous findings. \n",
    "\n",
    "# Conclusion \n",
    "\n",
    "This notebook has handled all neccessary Data analytics operations from, Data wrangling, cleaning, feature engineering, univariate, bivariate and multivariate explorations."
   ]
  },
  {
   "cell_type": "code",
   "execution_count": 36,
   "id": "8944f838",
   "metadata": {},
   "outputs": [],
   "source": [
    "# Save Dataframe to CSV file\n",
    "\n",
    "gobike_copy.to_csv('gobike_copy.csv')"
   ]
  },
  {
   "cell_type": "code",
   "execution_count": null,
   "id": "611c27ad",
   "metadata": {},
   "outputs": [],
   "source": []
  }
 ],
 "metadata": {
  "kernelspec": {
   "display_name": "Python 3 (ipykernel)",
   "language": "python",
   "name": "python3"
  },
  "language_info": {
   "codemirror_mode": {
    "name": "ipython",
    "version": 3
   },
   "file_extension": ".py",
   "mimetype": "text/x-python",
   "name": "python",
   "nbconvert_exporter": "python",
   "pygments_lexer": "ipython3",
   "version": "3.9.12"
  }
 },
 "nbformat": 4,
 "nbformat_minor": 5
}
